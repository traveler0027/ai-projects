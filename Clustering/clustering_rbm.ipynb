{
 "cells": [
  {
   "cell_type": "code",
   "execution_count": 9,
   "metadata": {
    "scrolled": true
   },
   "outputs": [],
   "source": [
    "import urllib.request\n",
    "with urllib.request.urlopen(\"http://deeplearning.net/tutorial/code/utils.py\") as url:\n",
    "    response = url.read()\n",
    "target = open('utils.py', 'w')\n",
    "target.write(response.decode('utf-8'))\n",
    "target.close()"
   ]
  },
  {
   "cell_type": "code",
   "execution_count": 24,
   "metadata": {},
   "outputs": [],
   "source": [
    "import tensorflow as tf\n",
    "import numpy\n",
    "from tensorflow.examples.tutorials.mnist import input_data\n",
    "#!pip install pillow\n",
    "from PIL import Image\n",
    "#from utils.py import tile_raster_images\n",
    "import matplotlib.pyplot as plt\n",
    "%matplotlib inline"
   ]
  },
  {
   "cell_type": "code",
   "execution_count": null,
   "metadata": {},
   "outputs": [],
   "source": [
    "#reconstruct the data\n",
    "vb=tf.constant([0.1,0.2,0.1,0.1,0.1,0.2,0.1])\n",
    "print(\"b: \",sess.run(vb))\n",
    "\n",
    "v_prob = sess.run(tf.nn.sigmoid(tf.matmul(h_state,tf.transpose(w))+vb))\n",
    "\n",
    "print(\"p(vi|h): \",v_prob)\n",
    "v_state = tf.nn.relu(tf.sign(v_prob - tf.random_uniform(tf.shape(v_prob))))\n",
    "print(\"v probability staes: \",sess.run(v_state))"
   ]
  },
  {
   "cell_type": "code",
   "execution_count": null,
   "metadata": {},
   "outputs": [],
   "source": [
    "inp = sess.run(x)\n",
    "print(inp)\n",
    "print(v_prob[0])\n",
    "v_probability = 1\n",
    "for elm,p in zip(inp[0],v_prob[0]):\n",
    "    if elm ==1:\n",
    "        v_probability *= p\n",
    "    else:\n",
    "        v_probability *= (1-p)\n",
    "v_probability"
   ]
  },
  {
   "cell_type": "code",
   "execution_count": 15,
   "metadata": {
    "scrolled": true
   },
   "outputs": [
    {
     "name": "stdout",
     "output_type": "stream",
     "text": [
      "Extracting MNIST_data/train-images-idx3-ubyte.gz\n",
      "Extracting MNIST_data/train-labels-idx1-ubyte.gz\n",
      "Extracting MNIST_data/t10k-images-idx3-ubyte.gz\n",
      "Extracting MNIST_data/t10k-labels-idx1-ubyte.gz\n"
     ]
    }
   ],
   "source": [
    "mnist = input_data.read_data_sets(\"MNIST_data/\",one_hot=True)\n",
    "trX,trY,teX,teY = mnist.train.images,mnist.train.labels,mnist.test.images,mnist.test.labels\n",
    "\n"
   ]
  },
  {
   "cell_type": "code",
   "execution_count": 16,
   "metadata": {},
   "outputs": [
    {
     "data": {
      "text/plain": [
       "(784,)"
      ]
     },
     "execution_count": 16,
     "metadata": {},
     "output_type": "execute_result"
    }
   ],
   "source": [
    "trX[1].shape"
   ]
  },
  {
   "cell_type": "code",
   "execution_count": 17,
   "metadata": {},
   "outputs": [],
   "source": [
    "#images have 784 pixels. so the vissible layer must have 784 input nodes\n",
    "\n",
    "vb = tf.placeholder(\"float\",[784])\n",
    "hb = tf.placeholder(\"float\",[50])\n",
    "\n",
    "#e will be the tensor of 784x50 (784 visible neurons, and 50 hidden)\n",
    "w = tf.placeholder(\"float\",[784,50])\n",
    "\n",
    "#visible layer\n",
    "v0_state = tf.placeholder(\"float\",[None,784])\n",
    "#hidden layer\n",
    "h0_prob = tf.nn.sigmoid(tf.matmul(v0_state,w) + hb) # probabilities of the units\n",
    "h0_state = tf.nn.relu(tf.sign(h0_prob - tf.random_uniform(tf.shape(h0_prob)))) #sample of given x\n",
    "\n",
    "#reconstruction\n",
    "v1_prob = tf.nn.sigmoid(tf.matmul(h0_state,tf.transpose(w)+vb))\n",
    "v1_state = tf.nn.relu(tf.sign(v1_prob-tf.random_uniform(tf.shape(v1_prob)))) #samplev given h\n",
    "\n",
    "#compute error as a sum of the squared difference between step 1 and step n\n",
    "#it sows the difference between the data and its reconstruction\n",
    "err = tf.reduce_mean(tf.square(v0_state - v1_state))\n"
   ]
  },
  {
   "cell_type": "code",
   "execution_count": 18,
   "metadata": {},
   "outputs": [],
   "source": [
    "#train the model\n",
    "h1_prob = tf.nn.sigmoid(tf.matmul(v1_state,w)+hb)\n",
    "h1_state = tf.nn.relu(tf.sign(h1_prob - tf.random_uniform(tf.shape(h1_prob)))) \n",
    "\n",
    "alpha = 0.01\n",
    "w_delta = tf.matmul(tf.transpose(v0_state),h0_prob)-tf.matmul(tf.transpose(v1_state),h1_prob)\n",
    "update_w = w + alpha *w_delta\n",
    "update_vb= vb + alpha*tf.reduce_mean(v0_state - v1_state,0)\n",
    "update_hb= hb + alpha*tf.reduce_mean(h0_state - h1_state,0)\n",
    "\n",
    "#start a session and initialize the variables\n",
    "cur_w = np.zeros([784,50],np.float32)\n",
    "cur_vb = np.zeros([784],np.float32)\n",
    "cur_hb = np.zeros([50],np.float32)\n",
    "prv_w = np.zeros([784,50],np.float32)\n",
    "prv_vb = np.zeros([784],np.float32)\n",
    "prv_hb = np.zeros([50],np.float32)\n",
    "sess = tf.Session()\n",
    "init = tf.global_variables_initializer()\n",
    "sess.run(init)"
   ]
  },
  {
   "cell_type": "code",
   "execution_count": 19,
   "metadata": {
    "scrolled": true
   },
   "outputs": [
    {
     "data": {
      "text/plain": [
       "0.48144007"
      ]
     },
     "execution_count": 19,
     "metadata": {},
     "output_type": "execute_result"
    }
   ],
   "source": [
    "#check error of run\n",
    "\n",
    "sess.run(err,feed_dict={v0_state:trX,w:prv_w,vb:prv_vb,hb:prv_hb})\n"
   ]
  },
  {
   "cell_type": "code",
   "execution_count": 20,
   "metadata": {},
   "outputs": [
    {
     "name": "stdout",
     "output_type": "stream",
     "text": [
      "Epoch: 0 reconstruction error: 0.080918\n",
      "Epoch: 1 reconstruction error: 0.076945\n",
      "Epoch: 2 reconstruction error: 0.075452\n",
      "Epoch: 3 reconstruction error: 0.075319\n",
      "Epoch: 4 reconstruction error: 0.074584\n"
     ]
    },
    {
     "data": {
      "image/png": "[encoded data removed]",
      "text/plain": [
       "<Figure size 432x288 with 1 Axes>"
      ]
     },
     "metadata": {
      "needs_background": "light"
     },
     "output_type": "display_data"
    }
   ],
   "source": [
    "#parameters\n",
    "epochs=5\n",
    "batchsize=100\n",
    "weights=[]\n",
    "errors=[]\n",
    "\n",
    "for epoch in range(epochs):\n",
    "    for start,end in zip(range(0,len(trX),batchsize),range(batchsize,len(trX),batchsize)):\n",
    "        batch = trX[start:end]\n",
    "        cur_w=sess.run(update_w,feed_dict={v0_state:batch,w:prv_w,vb:prv_vb,hb:prv_hb})\n",
    "        cur_vb=sess.run(update_vb,feed_dict={v0_state:batch,w:prv_w,vb:prv_vb,hb:prv_hb})\n",
    "        cur_hb=sess.run(update_hb,feed_dict={v0_state:batch,w:prv_w,vb:prv_vb,hb:prv_hb})\n",
    "        prv_w=cur_w\n",
    "        prv_vb=cur_vb\n",
    "        prv_hb=cur_hb\n",
    "        if start %10000==0:\n",
    "            errors.append(sess.run(err,feed_dict={v0_state:trX,w:prv_w,vb:prv_vb,hb:prv_hb}))\n",
    "            weights.append(cur_w)\n",
    "    print('Epoch: %d' % epoch,'reconstruction error: %f'%errors[-1])\n",
    "plt.plot(errors)\n",
    "plt.xlabel(\"Batch Number\")\n",
    "plt.ylabel(\"Error\")\n",
    "plt.show()"
   ]
  },
  {
   "cell_type": "code",
   "execution_count": null,
   "metadata": {},
   "outputs": [],
   "source": [
    "#the final weights after training\n",
    "uw=weights[-1].T\n",
    "print(uw)"
   ]
  },
  {
   "cell_type": "code",
   "execution_count": 27,
   "metadata": {},
   "outputs": [
    {
     "ename": "NameError",
     "evalue": "name 'title_raster_images' is not defined",
     "output_type": "error",
     "traceback": [
      "\u001b[1;31m---------------------------------------------------------------------------\u001b[0m",
      "\u001b[1;31mNameError\u001b[0m                                 Traceback (most recent call last)",
      "\u001b[1;32m<ipython-input-27-1e910a91eaaf>\u001b[0m in \u001b[0;36m<module>\u001b[1;34m\u001b[0m\n\u001b[0;32m      1\u001b[0m \u001b[1;31m#learned features\u001b[0m\u001b[1;33m\u001b[0m\u001b[1;33m\u001b[0m\u001b[1;33m\u001b[0m\u001b[0m\n\u001b[1;32m----> 2\u001b[1;33m \u001b[0mtitle_raster_images\u001b[0m\u001b[1;33m(\u001b[0m\u001b[0mx\u001b[0m\u001b[1;33m=\u001b[0m\u001b[0mcur_w\u001b[0m\u001b[1;33m.\u001b[0m\u001b[0mT\u001b[0m\u001b[1;33m,\u001b[0m\u001b[0mimg_shape\u001b[0m\u001b[1;33m=\u001b[0m\u001b[1;33m(\u001b[0m\u001b[1;36m28\u001b[0m\u001b[1;33m,\u001b[0m\u001b[1;36m28\u001b[0m\u001b[1;33m)\u001b[0m\u001b[1;33m,\u001b[0m\u001b[0mtile_shape\u001b[0m\u001b[1;33m=\u001b[0m\u001b[1;33m(\u001b[0m\u001b[1;36m5\u001b[0m\u001b[1;33m,\u001b[0m\u001b[1;36m10\u001b[0m\u001b[1;33m)\u001b[0m\u001b[1;33m,\u001b[0m\u001b[0mtile_spacing\u001b[0m\u001b[1;33m=\u001b[0m\u001b[1;33m(\u001b[0m\u001b[1;36m1\u001b[0m\u001b[1;33m,\u001b[0m\u001b[1;36m1\u001b[0m\u001b[1;33m)\u001b[0m\u001b[1;33m)\u001b[0m\u001b[1;33m\u001b[0m\u001b[1;33m\u001b[0m\u001b[0m\n\u001b[0m\u001b[0;32m      3\u001b[0m \u001b[0mimage\u001b[0m \u001b[1;33m=\u001b[0m \u001b[0mIMaage\u001b[0m\u001b[1;33m.\u001b[0m\u001b[0mfromarray\u001b[0m\u001b[1;33m(\u001b[0m\u001b[0mtile_raster_images\u001b[0m\u001b[1;33m(\u001b[0m\u001b[0mx\u001b[0m\u001b[1;33m=\u001b[0m\u001b[0mcur_w\u001b[0m\u001b[1;33m.\u001b[0m\u001b[0mT\u001b[0m\u001b[1;33m,\u001b[0m\u001b[0mimg_shape\u001b[0m\u001b[1;33m=\u001b[0m\u001b[1;33m(\u001b[0m\u001b[1;36m28\u001b[0m\u001b[1;33m,\u001b[0m\u001b[1;36m28\u001b[0m\u001b[1;33m)\u001b[0m\u001b[1;33m,\u001b[0m\u001b[0mtile_shape\u001b[0m\u001b[1;33m=\u001b[0m\u001b[1;33m(\u001b[0m\u001b[1;36m5\u001b[0m\u001b[1;33m,\u001b[0m\u001b[1;36m10\u001b[0m\u001b[1;33m)\u001b[0m\u001b[1;33m,\u001b[0m\u001b[0mtile_spacing\u001b[0m\u001b[1;33m=\u001b[0m\u001b[1;33m(\u001b[0m\u001b[1;36m1\u001b[0m\u001b[1;33m,\u001b[0m\u001b[1;36m1\u001b[0m\u001b[1;33m)\u001b[0m\u001b[1;33m)\u001b[0m\u001b[1;33m)\u001b[0m\u001b[1;33m\u001b[0m\u001b[1;33m\u001b[0m\u001b[0m\n\u001b[0;32m      4\u001b[0m \u001b[0mplt\u001b[0m\u001b[1;33m.\u001b[0m\u001b[0mrcParams\u001b[0m\u001b[1;33m[\u001b[0m\u001b[1;34m\"Figure.fisize\"\u001b[0m\u001b[1;33m]\u001b[0m\u001b[1;33m=\u001b[0m\u001b[1;33m(\u001b[0m\u001b[1;36m18.0\u001b[0m\u001b[1;33m,\u001b[0m\u001b[1;36m18.0\u001b[0m\u001b[1;33m)\u001b[0m\u001b[1;33m\u001b[0m\u001b[1;33m\u001b[0m\u001b[0m\n\u001b[0;32m      5\u001b[0m \u001b[0mimgplot\u001b[0m\u001b[1;33m=\u001b[0m\u001b[0mplt\u001b[0m\u001b[1;33m.\u001b[0m\u001b[0mimshow\u001b[0m\u001b[1;33m(\u001b[0m\u001b[0mimage\u001b[0m\u001b[1;33m)\u001b[0m\u001b[1;33m\u001b[0m\u001b[1;33m\u001b[0m\u001b[0m\n",
      "\u001b[1;31mNameError\u001b[0m: name 'title_raster_images' is not defined"
     ]
    }
   ],
   "source": [
    "#learned features\n",
    "title_raster_images(x=cur_w.T,img_shape=(28,28),tile_shape=(5,10),tile_spacing=(1,1))\n",
    "image = IMaage.fromarray(tile_raster_images(x=cur_w.T,img_shape=(28,28),tile_shape=(5,10),tile_spacing=(1,1)))\n",
    "plt.rcParams[\"Figure.fisize\"]=(18.0,18.0)\n",
    "imgplot=plt.imshow(image)\n",
    "imgplot.set_cmap('gray')"
   ]
  }
 ],
 "metadata": {
  "kernelspec": {
   "display_name": "Python 3",
   "language": "python",
   "name": "python3"
  },
  "language_info": {
   "codemirror_mode": {
    "name": "ipython",
    "version": 3
   },
   "file_extension": ".py",
   "mimetype": "text/x-python",
   "name": "python",
   "nbconvert_exporter": "python",
   "pygments_lexer": "ipython3",
   "version": "3.7.6"
  }
 },
 "nbformat": 4,
 "nbformat_minor": 4
}
