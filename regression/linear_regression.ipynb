{
 "cells": [
  {
   "cell_type": "markdown",
   "metadata": {},
   "source": [
    "<h2 style=\"text-align:center;\">Linear Regression</h2>\n",
    "<p>The idea of regression is to predict continous values</P>\n",
    "<p>The goal of Linear Regression is to approximate the best fit linear equation to a plot as shown:</p>\n",
    "<img src=\"../images/linear_regression.png\">\n",
    "<p>From Algebra, we recall that the linear linea equation is:</p>\n"
   ]
  },
  {
   "cell_type": "code",
   "execution_count": 1,
   "metadata": {},
   "outputs": [
    {
     "data": {
      "text/latex": [
       "\\begin{align}\n",
       "\\hat{y} = wx + b\n",
       "\\end{align}\n"
      ],
      "text/plain": [
       "<IPython.core.display.Latex object>"
      ]
     },
     "metadata": {},
     "output_type": "display_data"
    }
   ],
   "source": [
    "%%latex\n",
    "\\begin{align}\n",
    "\\hat{y} = wx + b\n",
    "\\end{align}"
   ]
  },
  {
   "cell_type": "markdown",
   "metadata": {},
   "source": [
    "<p>where:</p>\n",
    "<p style=\"text-align:center;\"><i>y_hat</i> is the approximation</p>\n",
    "<p style=\"text-align:center;\"><i>w</i> is the slop or weight</p>\n",
    "<p style=\"text-align:center;\"><i>b</i> is the offset or bias</p>\n",
    "\n",
    "<p>to figure out 'w' and 'b' we will need to recursively update the values</p>\n",
    "<p> this can be done by the <strong>Mean Squared Error</strong> (the mean of the error squared)</p>\n",
    "<p>we want to find the difference between the actual value <i>y_i</i> and predicted value <i> (wx +b)</i> for all elelements <i>n</i>.</p>\n"
   ]
  },
  {
   "cell_type": "code",
   "execution_count": 2,
   "metadata": {},
   "outputs": [
    {
     "data": {
      "text/latex": [
       "\\begin{align}\n",
       "MSE = J(w,b) =  \\frac{1}{N} \\sum_{i=1}^{n} (y_i - (w x_i + b))^2\n",
       "\\end{align}\n"
      ],
      "text/plain": [
       "<IPython.core.display.Latex object>"
      ]
     },
     "metadata": {},
     "output_type": "display_data"
    }
   ],
   "source": [
    "%%latex\n",
    "\\begin{align}\n",
    "MSE = J(w,b) =  \\frac{1}{N} \\sum_{i=1}^{n} (y_i - (w x_i + b))^2\n",
    "\\end{align}"
   ]
  },
  {
   "cell_type": "markdown",
   "metadata": {},
   "source": [
    "<h2>Mean Squared Error</h2>\n",
    "<p>will need to be minimized</p>\n",
    "<p> to do this, we can take the derivitave of each varaible with respect to the other</p>"
   ]
  },
  {
   "cell_type": "code",
   "execution_count": 3,
   "metadata": {},
   "outputs": [
    {
     "data": {
      "text/latex": [
       "\\begin{align}\n",
       "J'(m,b) =\n",
       "   \\begin{bmatrix}\n",
       "     \\frac{df}{dw}\\\\\n",
       "     \\frac{df}{db}\\\\\n",
       "    \\end{bmatrix} =\n",
       "   \\begin{bmatrix}\n",
       "     \\frac{1}{N} \\sum -2x_i(y_i - (wx_i + b)) \\\\\n",
       "     \\frac{1}{N} \\sum -2(y_i - (wx_i + b)) \\\\\n",
       "    \\end{bmatrix}\n",
       "\\end{align}\n"
      ],
      "text/plain": [
       "<IPython.core.display.Latex object>"
      ]
     },
     "metadata": {},
     "output_type": "display_data"
    }
   ],
   "source": [
    "%%latex\n",
    "\\begin{align}\n",
    "J'(m,b) =\n",
    "   \\begin{bmatrix}\n",
    "     \\frac{df}{dw}\\\\\n",
    "     \\frac{df}{db}\\\\\n",
    "    \\end{bmatrix} =\n",
    "   \\begin{bmatrix}\n",
    "     \\frac{1}{N} \\sum -2x_i(y_i - (wx_i + b)) \\\\\n",
    "     \\frac{1}{N} \\sum -2(y_i - (wx_i + b)) \\\\\n",
    "    \\end{bmatrix}\n",
    "\\end{align}"
   ]
  },
  {
   "cell_type": "code",
   "execution_count": null,
   "metadata": {},
   "outputs": [],
   "source": []
  }
 ],
 "metadata": {
  "kernelspec": {
   "display_name": "Python 3",
   "language": "python",
   "name": "python3"
  },
  "language_info": {
   "codemirror_mode": {
    "name": "ipython",
    "version": 3
   },
   "file_extension": ".py",
   "mimetype": "text/x-python",
   "name": "python",
   "nbconvert_exporter": "python",
   "pygments_lexer": "ipython3",
   "version": "3.7.6"
  }
 },
 "nbformat": 4,
 "nbformat_minor": 4
}
