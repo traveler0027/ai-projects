{
 "cells": [
  {
   "cell_type": "markdown",
   "metadata": {},
   "source": [
    "<h2>Logistic Regression</h2>\n",
    "<p>logistic regression is similar to Linear Regression</p>\n",
    "<p>Where the data point is approximated by a linear function:</p>\n",
    "\n",
    "\\begin{align}\n",
    "f(w, b) = wx + b\n",
    "\\end{align}\n",
    "\n",
    "<p>Where:</p>\n",
    "<p style=\"text-align: center;\"><i>w</i> is the weight or slop</p>\n",
    "<p style=\"text-align: center;\"><i>b</i> is the bias or offset</p>\n",
    "\n",
    "<p> The difference is that with logistic regression, we want a probability of the outcome. </p>\n",
    "\n",
    "<p>This is done by applying the sigmoid function to the linear model.</p>\n",
    "\n",
    "<p>As we recall, the sigmoid function is defined by:</p>\n",
    "\\begin{align}\n",
    "\\frac {1}{1+e^{ -x}}\n",
    "\\end{align}\n",
    "<p> and returns a probablity between 0 and 1.</p>\n",
    "<img src=\"../images/sigmoid.png\">\n",
    "\n",
    "<p> So that will look like this:</p>\n",
    "\\begin{align}\n",
    "\\hat{y} = h_{\\theta}(x) = \\frac {1}{1+e^{-wx +b}}\n",
    "\\end{align}\n",
    "<p>where h(x) is the probability of x.</p>\n",
    "\n",
    "\\begin{align}\n",
    "J(w, b) = J(\\theta) =  \\frac{1}{N} \\sum_{i=1}^{n} [y^{i} log(h_{\\theta}(x^{i})) + (1- y^{i})log(1 - h_{\\theta}(x^{i}))]\n",
    "\\end{align}\n",
    "\n",
    "\n",
    "\n",
    "\n",
    "\\begin{align}\n",
    "w = w - \\alpha \\cdot dw\n",
    "\\end{align}\n",
    "\\begin{align}\n",
    "b = b - \\alpha \\cdot db\n",
    "\\end{align}\n",
    "\n",
    "\n",
    "\n",
    "\n",
    "\\begin{align}\n",
    "J'(\\theta) =\n",
    "    \\begin{bmatrix}\n",
    "     \\frac{dJ}{dw}\\\\\n",
    "     \\frac{dJ}{db}\\\\\n",
    "    \\end{bmatrix} = [...] =\n",
    "    \\begin{bmatrix}\n",
    "     \\frac{1}{N} \\sum 2x_i(\\hat{y} - y_i)\\\\\n",
    "     \\frac{1}{N} \\sum 2(\\hat{y} - y_i)\\\\\n",
    "    \\end{bmatrix}\n",
    "\\end{align}"
   ]
  },
  {
   "cell_type": "code",
   "execution_count": null,
   "metadata": {},
   "outputs": [],
   "source": []
  }
 ],
 "metadata": {
  "kernelspec": {
   "display_name": "Python 3",
   "language": "python",
   "name": "python3"
  },
  "language_info": {
   "codemirror_mode": {
    "name": "ipython",
    "version": 3
   },
   "file_extension": ".py",
   "mimetype": "text/x-python",
   "name": "python",
   "nbconvert_exporter": "python",
   "pygments_lexer": "ipython3",
   "version": "3.7.6"
  }
 },
 "nbformat": 4,
 "nbformat_minor": 4
}
