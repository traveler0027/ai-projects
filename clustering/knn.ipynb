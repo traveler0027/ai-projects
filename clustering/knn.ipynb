{
 "cells": [
  {
   "cell_type": "markdown",
   "metadata": {},
   "source": [
    "<h2 style=\"text-align:center;\"> K Nearest Neighbors</h2>\n",
    "<p> Given the data plot shown below, how should the new data point (green) be classified?</p>\n",
    "<p> To solve this we can calcualte the distance to all other data points and determine the 'k' Nearest Neighbors. By setting 'k' to an odd number, (where k is the number of neighbors) we can avoid ties.</p>\n",
    "<img src=\"../images/knn1.jpg\"/>\n",
    "<p>The distance needs to be straight path distance, aka Eucledean distance.</p>\n",
    "<p>given by:</p>\n",
    "<img src=\"../images/knn2.png\">\n",
    "<p>More generally, the distance between two points (p and q) can be written as:</p>"
   ]
  },
  {
   "cell_type": "code",
   "execution_count": 2,
   "metadata": {},
   "outputs": [
    {
     "data": {
      "text/latex": [
       "\\begin{align}\n",
       "d(p, q) = \\sqrt{\\sum{(p_{i}- q_{i})^2}}\n",
       "\\end{align}\n"
      ],
      "text/plain": [
       "<IPython.core.display.Latex object>"
      ]
     },
     "metadata": {},
     "output_type": "display_data"
    }
   ],
   "source": [
    "%%latex\n",
    "\\begin{align}\n",
    "d(p, q) = \\sqrt{\\sum{(p_{i}- q_{i})^2}}\n",
    "\\end{align}"
   ]
  },
  {
   "cell_type": "markdown",
   "metadata": {},
   "source": [
    "<h2 style=\"text-align:center;\">Code the algorithm</h2>"
   ]
  },
  {
   "cell_type": "code",
   "execution_count": 5,
   "metadata": {},
   "outputs": [],
   "source": [
    "import numpy as np\n",
    "from collections import Counter\n",
    "\n",
    "def euclidean_distance(x1,x2):\n",
    "    #from the formula above\n",
    "    return np.sqrt(np.sum(x1-x2)**2)\n",
    "\n",
    "class KNN:\n",
    "    def __init__(self,k=3 ):\n",
    "        #set default k value to 3\n",
    "        #k is number of neighbor to consider\n",
    "        \n",
    "        #store k value\n",
    "        self.k = k\n",
    "        \n",
    "    def fit(self,X,y):\n",
    "        #X is training sample\n",
    "        #y is training lable\n",
    "        \n",
    "        #store training samples and labels\n",
    "        self.X_train = X\n",
    "        self.y_train = y\n",
    "        \n",
    "    def predict(self,X):\n",
    "        #X is new samples to be predicted\n",
    "        \n",
    "        #create list of predicted labels\n",
    "        predicted_labels = [self._predict(x) for x in X]\n",
    "        \n",
    "        return np.array(predicted_labels)\n",
    "    \n",
    "    def _predict(self,x):\n",
    "        #helper method will get one x sample\n",
    "        \n",
    "        #use list comprehention to create list of distances from point x to all points in training \n",
    "        distances = [euclidean_distance(x,x_train) for x_train in self.X_train]\n",
    "        \n",
    "        #get k nearest samples and labels\n",
    "        #create array of sorted distances\n",
    "        k_indices = np.argsort(distances)[:self.k] #only return 0:k\n",
    "        \n",
    "        #create list of closest data points' labels\n",
    "        k_nearest_labels = [self.y_train[i] for i in k_indices]\n",
    "        \n",
    "        #majority vote for most common classification label\n",
    "        most_common_labels = Counter(k_nearest_labels).most_common(1)\n",
    "        return most_common[0][0]"
   ]
  },
  {
   "cell_type": "code",
   "execution_count": null,
   "metadata": {},
   "outputs": [],
   "source": []
  }
 ],
 "metadata": {
  "kernelspec": {
   "display_name": "Python 3",
   "language": "python",
   "name": "python3"
  },
  "language_info": {
   "codemirror_mode": {
    "name": "ipython",
    "version": 3
   },
   "file_extension": ".py",
   "mimetype": "text/x-python",
   "name": "python",
   "nbconvert_exporter": "python",
   "pygments_lexer": "ipython3",
   "version": "3.7.6"
  }
 },
 "nbformat": 4,
 "nbformat_minor": 4
}
