{
 "cells": [
  {
   "cell_type": "code",
   "execution_count": null,
   "metadata": {},
   "outputs": [],
   "source": [
    "#Background\n",
    "#Customer Service Requests Analysis\n",
    "\n",
    "#NYC 311's mission is to provide the public with quick and easy access to all New York City government services and information while offering the best customer service.\n",
    "#Each day, NYC311 receives thousands of requests related to several hundred types of non-emergency services, including noise complaints, plumbing issues, and illegally parked cars.\n",
    "#These requests are received by NYC311 and forwarded to the relevant agencies such as the police, buildings, or transportation. \n",
    "#The agency responds to the request, addresses it, and then closes it.\n",
    "\n",
    "#Problem\n",
    "#Perform a service request data analysis of New York City 311 calls. \n",
    "#You will focus on the data wrangling techniques to understand the pattern in the data and also visualize the major complaint types.\n",
    "#Domain: Customer Service\n",
    "\n",
    "#Task\n",
    "\n",
    "#     Import a 311 NYC service request.\n",
    "#     Read or convert the columns ‘Created Date’ and Closed Date’ to datetime datatype and create a new column ‘Request_Closing_Time’ as the time elapsed between request creation and request closing. (Hint: Explore the package/module datetime)\n",
    "#     Provide major insights/patterns that you can offer in a visual format (graphs or tables); at least 4 major conclusions that you can come up with after generic data mining.\n",
    "#     Order the complaint types based on the average ‘Request_Closing_Time’, grouping them for different locations.\n",
    "#     Perform a statistical test for the following:\n",
    "\n",
    "#     Whether the average response time across complaint types is similar or not (overall)\n",
    "#     Are the type of complaint or service requested and location related?\n",
    "\n",
    "\n",
    "from pandas import read_csv\n",
    "\n",
    "import pandas as pd\n",
    "import numpy as np\n",
    "import matplotlib.pyplot as plt\n",
    "import seaborn as sns\n",
    "\n",
    "import datetime\n",
    "\n",
    "%matplotlib inline"
   ]
  },
  {
   "cell_type": "code",
   "execution_count": null,
   "metadata": {},
   "outputs": [],
   "source": [
    "#read in data\n",
    "\n",
    "dataset = read_csv(\"../../../ai_algos/data/311_Service_Requests_from_2010_to_Present.csv\")\n",
    "dataset.head()"
   ]
  },
  {
   "cell_type": "code",
   "execution_count": null,
   "metadata": {
    "scrolled": true
   },
   "outputs": [],
   "source": [
    "#check data types of data\n",
    "dataset.dtypes\n",
    "#dataset.info(null_counts=True)"
   ]
  },
  {
   "cell_type": "code",
   "execution_count": null,
   "metadata": {
    "scrolled": true
   },
   "outputs": [],
   "source": [
    "#shape before drop NaN values\n",
    "print(dataset.shape)\n",
    "\n",
    "#see the Nan values\n",
    "dataset.isnull().sum()"
   ]
  },
  {
   "cell_type": "code",
   "execution_count": null,
   "metadata": {},
   "outputs": [],
   "source": [
    "#fill nan closed date with \n",
    "dataset[\"Closed Date\"].replace(to_replace='NaN',value='12-31-99 0:00',inplace=True)\n",
    "\n",
    "#drop columns with too many Nan or unneeded\n",
    "\n",
    "dataset.drop(columns=['Incident Address', 'Street Name', 'Cross Street 1', 'Cross Street 2',\n",
    "       'Intersection Street 1', 'Intersection Street 2','Resolution Description', \n",
    "     'Resolution Action Updated Date','Community Board','X Coordinate (State Plane)','School or Citywide Complaint',\n",
    "    'Vehicle Type','Taxi Company Borough','Taxi Pick Up Location','Garage Lot Name','School Name', 'School Number', \n",
    "              'School Region', 'School Code','School Phone Number', 'School Address', 'School City', 'School State',\n",
    "       'School Zip', 'School Not Found','Ferry Direction', 'Ferry Terminal Name','Unique Key','Bridge Highway Name',\n",
    "       'Bridge Highway Direction', 'Road Ramp', 'Bridge Highway Segment'],axis=1,inplace=True)\n",
    "\n",
    "dataset.shape"
   ]
  },
  {
   "cell_type": "code",
   "execution_count": null,
   "metadata": {
    "scrolled": true
   },
   "outputs": [],
   "source": [
    "#convert from object type to date type\n",
    "dataset[\"Created Date\"] = pd.to_datetime(dataset[\"Created Date\"])\n",
    "dataset[\"Closed Date\"] = pd.to_datetime(dataset[\"Closed Date\"])\n",
    "\n",
    "dataset[\"Request_closing_time\"] = dataset[\"Closed Date\"].sub(dataset[\"Created Date\"],fill_value=0)\n",
    "\n",
    "dataset.head(10)"
   ]
  },
  {
   "cell_type": "code",
   "execution_count": null,
   "metadata": {
    "scrolled": true
   },
   "outputs": [],
   "source": [
    "#Complaint type breakdown to figure out majority of complaint types and top 10 complaints\n",
    "\n",
    "dataset['Complaint Type'].value_counts().plot(kind='barh',alpha=0.6,figsize=(15,30))\n",
    "plt.show()"
   ]
  },
  {
   "cell_type": "code",
   "execution_count": null,
   "metadata": {},
   "outputs": [],
   "source": [
    "#view the status of tickets\n",
    "\n",
    "dataset['Status'].value_counts().plot(kind='barh',alpha=0.6,figsize=(7,7))\n",
    "plt.show()"
   ]
  },
  {
   "cell_type": "code",
   "execution_count": null,
   "metadata": {},
   "outputs": [],
   "source": [
    "#group by datasets by complaintss to display plots against the city\n",
    "\n",
    "dataset_complaints = dataset.groupby(\"Complaint Type\")\n",
    "dataset_driveway = dataset_complaints.get_group(\"Blocked Driveway\")\n",
    "\n",
    "print(dataset_driveway.shape)"
   ]
  },
  {
   "cell_type": "code",
   "execution_count": null,
   "metadata": {
    "scrolled": true
   },
   "outputs": [],
   "source": []
  },
  {
   "cell_type": "code",
   "execution_count": null,
   "metadata": {},
   "outputs": [],
   "source": []
  }
 ],
 "metadata": {
  "kernelspec": {
   "display_name": "Python 3",
   "language": "python",
   "name": "python3"
  },
  "language_info": {
   "codemirror_mode": {
    "name": "ipython",
    "version": 3
   },
   "file_extension": ".py",
   "mimetype": "text/x-python",
   "name": "python",
   "nbconvert_exporter": "python",
   "pygments_lexer": "ipython3",
   "version": "3.7.6"
  }
 },
 "nbformat": 4,
 "nbformat_minor": 4
}
