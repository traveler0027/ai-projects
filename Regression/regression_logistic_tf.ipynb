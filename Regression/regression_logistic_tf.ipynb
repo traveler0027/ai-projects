{
 "cells": [
  {
   "cell_type": "code",
   "execution_count": 1,
   "metadata": {
    "scrolled": true
   },
   "outputs": [
    {
     "name": "stderr",
     "output_type": "stream",
     "text": [
      "C:\\Users\\jssrv\\_programs\\Anaconda3\\lib\\site-packages\\tensorflow\\python\\framework\\dtypes.py:516: FutureWarning: Passing (type, 1) or '1type' as a synonym of type is deprecated; in a future version of numpy, it will be understood as (type, (1,)) / '(1,)type'.\n",
      "  _np_qint8 = np.dtype([(\"qint8\", np.int8, 1)])\n",
      "C:\\Users\\jssrv\\_programs\\Anaconda3\\lib\\site-packages\\tensorflow\\python\\framework\\dtypes.py:517: FutureWarning: Passing (type, 1) or '1type' as a synonym of type is deprecated; in a future version of numpy, it will be understood as (type, (1,)) / '(1,)type'.\n",
      "  _np_quint8 = np.dtype([(\"quint8\", np.uint8, 1)])\n",
      "C:\\Users\\jssrv\\_programs\\Anaconda3\\lib\\site-packages\\tensorflow\\python\\framework\\dtypes.py:518: FutureWarning: Passing (type, 1) or '1type' as a synonym of type is deprecated; in a future version of numpy, it will be understood as (type, (1,)) / '(1,)type'.\n",
      "  _np_qint16 = np.dtype([(\"qint16\", np.int16, 1)])\n",
      "C:\\Users\\jssrv\\_programs\\Anaconda3\\lib\\site-packages\\tensorflow\\python\\framework\\dtypes.py:519: FutureWarning: Passing (type, 1) or '1type' as a synonym of type is deprecated; in a future version of numpy, it will be understood as (type, (1,)) / '(1,)type'.\n",
      "  _np_quint16 = np.dtype([(\"quint16\", np.uint16, 1)])\n",
      "C:\\Users\\jssrv\\_programs\\Anaconda3\\lib\\site-packages\\tensorflow\\python\\framework\\dtypes.py:520: FutureWarning: Passing (type, 1) or '1type' as a synonym of type is deprecated; in a future version of numpy, it will be understood as (type, (1,)) / '(1,)type'.\n",
      "  _np_qint32 = np.dtype([(\"qint32\", np.int32, 1)])\n",
      "C:\\Users\\jssrv\\_programs\\Anaconda3\\lib\\site-packages\\tensorflow\\python\\framework\\dtypes.py:525: FutureWarning: Passing (type, 1) or '1type' as a synonym of type is deprecated; in a future version of numpy, it will be understood as (type, (1,)) / '(1,)type'.\n",
      "  np_resource = np.dtype([(\"resource\", np.ubyte, 1)])\n",
      "C:\\Users\\jssrv\\_programs\\Anaconda3\\lib\\site-packages\\tensorboard\\compat\\tensorflow_stub\\dtypes.py:541: FutureWarning: Passing (type, 1) or '1type' as a synonym of type is deprecated; in a future version of numpy, it will be understood as (type, (1,)) / '(1,)type'.\n",
      "  _np_qint8 = np.dtype([(\"qint8\", np.int8, 1)])\n",
      "C:\\Users\\jssrv\\_programs\\Anaconda3\\lib\\site-packages\\tensorboard\\compat\\tensorflow_stub\\dtypes.py:542: FutureWarning: Passing (type, 1) or '1type' as a synonym of type is deprecated; in a future version of numpy, it will be understood as (type, (1,)) / '(1,)type'.\n",
      "  _np_quint8 = np.dtype([(\"quint8\", np.uint8, 1)])\n",
      "C:\\Users\\jssrv\\_programs\\Anaconda3\\lib\\site-packages\\tensorboard\\compat\\tensorflow_stub\\dtypes.py:543: FutureWarning: Passing (type, 1) or '1type' as a synonym of type is deprecated; in a future version of numpy, it will be understood as (type, (1,)) / '(1,)type'.\n",
      "  _np_qint16 = np.dtype([(\"qint16\", np.int16, 1)])\n",
      "C:\\Users\\jssrv\\_programs\\Anaconda3\\lib\\site-packages\\tensorboard\\compat\\tensorflow_stub\\dtypes.py:544: FutureWarning: Passing (type, 1) or '1type' as a synonym of type is deprecated; in a future version of numpy, it will be understood as (type, (1,)) / '(1,)type'.\n",
      "  _np_quint16 = np.dtype([(\"quint16\", np.uint16, 1)])\n",
      "C:\\Users\\jssrv\\_programs\\Anaconda3\\lib\\site-packages\\tensorboard\\compat\\tensorflow_stub\\dtypes.py:545: FutureWarning: Passing (type, 1) or '1type' as a synonym of type is deprecated; in a future version of numpy, it will be understood as (type, (1,)) / '(1,)type'.\n",
      "  _np_qint32 = np.dtype([(\"qint32\", np.int32, 1)])\n",
      "C:\\Users\\jssrv\\_programs\\Anaconda3\\lib\\site-packages\\tensorboard\\compat\\tensorflow_stub\\dtypes.py:550: FutureWarning: Passing (type, 1) or '1type' as a synonym of type is deprecated; in a future version of numpy, it will be understood as (type, (1,)) / '(1,)type'.\n",
      "  np_resource = np.dtype([(\"resource\", np.ubyte, 1)])\n"
     ]
    }
   ],
   "source": [
    "import tensorflow as tf\n",
    "import pandas as pd\n",
    "import numpy as np\n",
    "from sklearn.datasets import load_iris\n",
    "from sklearn.model_selection import train_test_split\n",
    "import matplotlib.pyplot as plt\n"
   ]
  },
  {
   "cell_type": "code",
   "execution_count": 2,
   "metadata": {},
   "outputs": [],
   "source": [
    "#load dataet\n",
    "iris = load_iris()\n",
    "iris_x, iris_y = iris.data[:-1,:], iris.target[:-1]\n",
    "iris_y = pd.get_dummies(iris_y).values\n",
    "train_x,test_x,train_y,test_y = train_test_split(iris_x,iris_y,test_size=0.33,random_state=42)\n"
   ]
  },
  {
   "cell_type": "code",
   "execution_count": 3,
   "metadata": {},
   "outputs": [],
   "source": [
    "#numFeatures is the number of features in our input data\n",
    "#\n",
    "numFeatures = train_x.shape[1]\n",
    "\n",
    "#numLabels is the number of classes our data points can be in\n",
    "#\n",
    "numLabels = train_y.shape[1]\n",
    "\n",
    "#placeholders\n",
    "x = tf.placeholder(tf.float32,[None,numFeatures])\n",
    "y_gold = tf.placeholder(tf.float32, [None,numLabels])"
   ]
  },
  {
   "cell_type": "code",
   "execution_count": 4,
   "metadata": {},
   "outputs": [],
   "source": [
    "w = tf.Variable(tf.zeros([4,3]))\n",
    "b = tf.Variable(tf.zeros([3]))"
   ]
  },
  {
   "cell_type": "code",
   "execution_count": 5,
   "metadata": {},
   "outputs": [],
   "source": [
    "#Randomly sample from a normal distribution with standard devaiation 0.01\n",
    "\n",
    "weights = tf.Variable(tf.random_normal([numFeatures,numLabels],\n",
    "                                      mean=0,\n",
    "                                      stddev=0.01,\n",
    "                                      name=\"weights\"))\n",
    "\n",
    "bias = tf.Variable(tf.random_normal([1,numLabels],\n",
    "                                   mean=0,\n",
    "                                   stddev=0.01,\n",
    "                                   name=\"bias\"))"
   ]
  },
  {
   "cell_type": "code",
   "execution_count": 6,
   "metadata": {},
   "outputs": [],
   "source": [
    "#three-componet breakdown of the Logistic Regression equation\n",
    "\n",
    "apply_weights_OP = tf.matmul(x,weights,name=\"apply_weights\")\n",
    "add_bias_OP = tf.add(apply_weights_OP,bias,name=\"add_bias\")\n",
    "activation_OP = tf.nn.sigmoid(add_bias_OP,name=\"activation\")"
   ]
  },
  {
   "cell_type": "code",
   "execution_count": 7,
   "metadata": {},
   "outputs": [],
   "source": [
    "#training\n",
    "learningRate = tf.train.exponential_decay(learning_rate=0.0008,\n",
    "                                         global_step=1,\n",
    "                                         decay_steps=train_x.shape[0],\n",
    "                                         decay_rate=0.95,\n",
    "                                         staircase=True)\n",
    "\n",
    "cost_OP = tf.nn.l2_loss(activation_OP-y_gold, name=\"squared_error_cost\")\n",
    "\n",
    "#defining the gradient descent\n",
    "training_OP = tf.train.GradientDescentOptimizer(learningRate).minimize(cost_OP)\n"
   ]
  },
  {
   "cell_type": "code",
   "execution_count": 9,
   "metadata": {},
   "outputs": [],
   "source": [
    "#create the tensorflow session\n",
    "sess = tf.Session()\n",
    "\n",
    "#Initialization the weights and biases\n",
    "init_OP = tf.global_variables_initializer()\n",
    "\n",
    "#initialize all tensorflow varaibles\n",
    "sess.run(init_OP)"
   ]
  },
  {
   "cell_type": "code",
   "execution_count": 11,
   "metadata": {},
   "outputs": [],
   "source": [
    "# argmax(activation_OP, 1) returns the label with the most probability\n",
    "# argmax(yGold, 1) is the correct label\n",
    "correct_predictions_OP = tf.equal(tf.argmax(activation_OP,1),tf.argmax(y_gold,1))\n",
    "\n",
    "# If every false prediction is 0 and every true prediction is 1, the average returns us the accuracy\n",
    "accuracy_OP = tf.reduce_mean(tf.cast(correct_predictions_OP, \"float\"))\n",
    "\n",
    "# Summary op for regression output\n",
    "activation_summary_OP = tf.summary.histogram(\"output\", activation_OP)\n",
    "\n",
    "# Summary op for accuracy\n",
    "accuracy_summary_OP = tf.summary.scalar(\"accuracy\", accuracy_OP)\n",
    "\n",
    "# Summary op for cost\n",
    "cost_summary_OP = tf.summary.scalar(\"cost\", cost_OP)\n",
    "\n",
    "# Summary ops to check how variables (W, b) are updating after each iteration\n",
    "weightSummary = tf.summary.histogram(\"weights\", weights.eval(session=sess))\n",
    "biasSummary = tf.summary.histogram(\"biases\", bias.eval(session=sess))\n",
    "\n",
    "# Merge all summaries\n",
    "merged = tf.summary.merge([activation_summary_OP, accuracy_summary_OP, cost_summary_OP, weightSummary, biasSummary])\n",
    "\n",
    "# Summary writer\n",
    "writer = tf.summary.FileWriter(\"summary_logs\", sess.graph)"
   ]
  },
  {
   "cell_type": "code",
   "execution_count": 15,
   "metadata": {},
   "outputs": [
    {
     "name": "stdout",
     "output_type": "stream",
     "text": [
      "step 0, training accuracy 0.333333, cost 33.0347, change in cost 33.0347\n",
      "step 10, training accuracy 0.616162, cost 29.8794, change in cost 3.15532\n",
      "step 20, training accuracy 0.646465, cost 27.9597, change in cost 1.91973\n",
      "step 30, training accuracy 0.646465, cost 26.3428, change in cost 1.61682\n",
      "step 40, training accuracy 0.646465, cost 25.0015, change in cost 1.34134\n",
      "step 50, training accuracy 0.646465, cost 23.8939, change in cost 1.10756\n",
      "step 60, training accuracy 0.646465, cost 22.9771, change in cost 0.916874\n",
      "step 70, training accuracy 0.646465, cost 22.2128, change in cost 0.764223\n",
      "step 80, training accuracy 0.646465, cost 21.5701, change in cost 0.642769\n",
      "step 90, training accuracy 0.646465, cost 21.024, change in cost 0.546036\n",
      "step 100, training accuracy 0.666667, cost 20.5554, change in cost 0.46859\n",
      "step 110, training accuracy 0.666667, cost 20.1493, change in cost 0.406132\n",
      "step 120, training accuracy 0.666667, cost 19.794, change in cost 0.35533\n",
      "step 130, training accuracy 0.666667, cost 19.4803, change in cost 0.313643\n",
      "step 140, training accuracy 0.666667, cost 19.2012, change in cost 0.279139\n",
      "step 150, training accuracy 0.666667, cost 18.9509, change in cost 0.250334\n",
      "step 160, training accuracy 0.686869, cost 18.7248, change in cost 0.226084\n",
      "step 170, training accuracy 0.69697, cost 18.5193, change in cost 0.205511\n",
      "step 180, training accuracy 0.69697, cost 18.3314, change in cost 0.187927\n",
      "step 190, training accuracy 0.717172, cost 18.1586, change in cost 0.1728\n",
      "step 200, training accuracy 0.737374, cost 17.9989, change in cost 0.159683\n",
      "step 210, training accuracy 0.737374, cost 17.8506, change in cost 0.148252\n",
      "step 220, training accuracy 0.747475, cost 17.7124, change in cost 0.138231\n",
      "step 230, training accuracy 0.757576, cost 17.583, change in cost 0.129391\n",
      "step 240, training accuracy 0.767677, cost 17.4614, change in cost 0.121557\n",
      "step 250, training accuracy 0.787879, cost 17.3469, change in cost 0.114578\n",
      "step 260, training accuracy 0.787879, cost 17.2385, change in cost 0.108332\n",
      "step 270, training accuracy 0.787879, cost 17.1358, change in cost 0.10272\n",
      "step 280, training accuracy 0.787879, cost 17.0382, change in cost 0.0976448\n",
      "step 290, training accuracy 0.79798, cost 16.9451, change in cost 0.0930595\n",
      "step 300, training accuracy 0.79798, cost 16.8562, change in cost 0.0888767\n",
      "step 310, training accuracy 0.79798, cost 16.7712, change in cost 0.085062\n",
      "step 320, training accuracy 0.79798, cost 16.6896, change in cost 0.0815735\n",
      "step 330, training accuracy 0.79798, cost 16.6112, change in cost 0.0783596\n",
      "step 340, training accuracy 0.818182, cost 16.5358, change in cost 0.0753994\n",
      "step 350, training accuracy 0.828283, cost 16.4632, change in cost 0.0726681\n",
      "step 360, training accuracy 0.838384, cost 16.393, change in cost 0.0701313\n",
      "step 370, training accuracy 0.838384, cost 16.3253, change in cost 0.0677681\n",
      "step 380, training accuracy 0.838384, cost 16.2597, change in cost 0.0655804\n",
      "step 390, training accuracy 0.848485, cost 16.1962, change in cost 0.0635242\n",
      "step 400, training accuracy 0.848485, cost 16.1346, change in cost 0.0616035\n",
      "step 410, training accuracy 0.848485, cost 16.0748, change in cost 0.059803\n",
      "step 420, training accuracy 0.848485, cost 16.0166, change in cost 0.0581093\n",
      "step 430, training accuracy 0.858586, cost 15.9601, change in cost 0.0565147\n",
      "step 440, training accuracy 0.858586, cost 15.9051, change in cost 0.055007\n",
      "step 450, training accuracy 0.868687, cost 15.8515, change in cost 0.0535851\n",
      "step 460, training accuracy 0.878788, cost 15.7993, change in cost 0.0522375\n",
      "step 470, training accuracy 0.878788, cost 15.7483, change in cost 0.0509567\n",
      "step 480, training accuracy 0.878788, cost 15.6986, change in cost 0.0497417\n",
      "step 490, training accuracy 0.878788, cost 15.65, change in cost 0.0485859\n",
      "step 500, training accuracy 0.878788, cost 15.6025, change in cost 0.0474834\n",
      "step 510, training accuracy 0.878788, cost 15.5561, change in cost 0.0464344\n",
      "step 520, training accuracy 0.888889, cost 15.5107, change in cost 0.0454283\n",
      "step 530, training accuracy 0.89899, cost 15.4662, change in cost 0.0444689\n",
      "step 540, training accuracy 0.89899, cost 15.4226, change in cost 0.0435486\n",
      "step 550, training accuracy 0.89899, cost 15.38, change in cost 0.0426683\n",
      "step 560, training accuracy 0.89899, cost 15.3382, change in cost 0.0418158\n",
      "step 570, training accuracy 0.89899, cost 15.2972, change in cost 0.0410099\n",
      "step 580, training accuracy 0.909091, cost 15.2569, change in cost 0.0402222\n",
      "step 590, training accuracy 0.909091, cost 15.2175, change in cost 0.0394716\n",
      "step 600, training accuracy 0.909091, cost 15.1787, change in cost 0.0387459\n",
      "step 610, training accuracy 0.909091, cost 15.1407, change in cost 0.0380449\n",
      "step 620, training accuracy 0.909091, cost 15.1033, change in cost 0.0373678\n",
      "step 630, training accuracy 0.909091, cost 15.0666, change in cost 0.0367174\n",
      "step 640, training accuracy 0.909091, cost 15.0305, change in cost 0.036088\n",
      "step 650, training accuracy 0.909091, cost 14.995, change in cost 0.0354757\n",
      "step 660, training accuracy 0.909091, cost 14.9601, change in cost 0.0348864\n",
      "step 670, training accuracy 0.909091, cost 14.9258, change in cost 0.0343132\n",
      "step 680, training accuracy 0.909091, cost 14.8921, change in cost 0.0337601\n",
      "step 690, training accuracy 0.909091, cost 14.8588, change in cost 0.0332232\n",
      "final accuracy on test set: 0.9\n"
     ]
    }
   ],
   "source": [
    "# Initialize reporting variables\n",
    "cost = 0\n",
    "diff = 1\n",
    "epoch_values = []\n",
    "accuracy_values = []\n",
    "cost_values = []\n",
    "\n",
    "# Training epochs\n",
    "for i in range(700):\n",
    "    if i > 1 and diff < .0001:\n",
    "        print(\"change in cost %g; convergence.\"%diff)\n",
    "        break\n",
    "    else:\n",
    "        # Run training step\n",
    "        step = sess.run(training_OP, feed_dict={x: train_x, y_gold: train_y})\n",
    "        # Report occasional stats\n",
    "        if i % 10 == 0:\n",
    "            # Add epoch to epoch_values\n",
    "            epoch_values.append(i)\n",
    "            # Generate accuracy stats on test data\n",
    "            train_accuracy, newCost = sess.run([accuracy_OP, cost_OP], feed_dict={x: train_x, y_gold: train_y})\n",
    "            # Add accuracy to live graphing variable\n",
    "            accuracy_values.append(train_accuracy)\n",
    "            # Add cost to live graphing variable\n",
    "            cost_values.append(newCost)\n",
    "            # Re-assign values for variables\n",
    "            diff = abs(newCost - cost)\n",
    "            cost = newCost\n",
    "\n",
    "            #generate print statements\n",
    "            print(\"step %d, training accuracy %g, cost %g, change in cost %g\"%(i, train_accuracy, newCost, diff))\n",
    "\n",
    "\n",
    "# How well do we perform on held-out test data?\n",
    "print(\"final accuracy on test set: %s\" %str(sess.run(accuracy_OP, \n",
    "                                                     feed_dict={x: test_x, \n",
    "                                                                y_gold: test_y})))"
   ]
  },
  {
   "cell_type": "code",
   "execution_count": 16,
   "metadata": {},
   "outputs": [
    {
     "name": "stderr",
     "output_type": "stream",
     "text": [
      "C:\\Users\\jssrv\\_programs\\Anaconda3\\lib\\site-packages\\numpy\\core\\fromnumeric.py:3335: RuntimeWarning: Mean of empty slice.\n",
      "  out=out, **kwargs)\n",
      "C:\\Users\\jssrv\\_programs\\Anaconda3\\lib\\site-packages\\numpy\\core\\_methods.py:161: RuntimeWarning: invalid value encountered in double_scalars\n",
      "  ret = ret.dtype.type(ret / rcount)\n"
     ]
    },
    {
     "data": {
      "image/png": "[encoded data removed]",
      "text/plain": [
       "<Figure size 432x288 with 1 Axes>"
      ]
     },
     "metadata": {
      "needs_background": "light"
     },
     "output_type": "display_data"
    }
   ],
   "source": [
    "%matplotlib inline\n",
    "import numpy as np\n",
    "import matplotlib.pyplot as plt\n",
    "plt.plot([np.mean(cost_values[i-50:i]) for i in range(len(cost_values))])\n",
    "plt.show()"
   ]
  }
 ],
 "metadata": {
  "kernelspec": {
   "display_name": "Python 3",
   "language": "python",
   "name": "python3"
  },
  "language_info": {
   "codemirror_mode": {
    "name": "ipython",
    "version": 3
   },
   "file_extension": ".py",
   "mimetype": "text/x-python",
   "name": "python",
   "nbconvert_exporter": "python",
   "pygments_lexer": "ipython3",
   "version": "3.7.6"
  }
 },
 "nbformat": 4,
 "nbformat_minor": 4
}
