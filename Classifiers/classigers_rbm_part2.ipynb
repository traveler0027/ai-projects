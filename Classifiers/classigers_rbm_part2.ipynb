{
 "cells": [
  {
   "cell_type": "code",
   "execution_count": 2,
   "metadata": {},
   "outputs": [],
   "source": [
    "#urllib is used to downlaod the utils frile from deeplearning.net\n",
    "\n",
    "import urllib.request\n",
    "with urllib.request.urlopen(\"http://deeplearning.net/tutorial/code/utils.py\") as url:\n",
    "    response = url.read()\n",
    "target = open('utils.py','w')\n",
    "target.write(response.decode('utf-8'))\n",
    "target.close()"
   ]
  },
  {
   "cell_type": "code",
   "execution_count": 7,
   "metadata": {
    "scrolled": true
   },
   "outputs": [
    {
     "name": "stderr",
     "output_type": "stream",
     "text": [
      "C:\\Users\\jssrv\\_programs\\Anaconda3\\lib\\importlib\\_bootstrap.py:219: RuntimeWarning: numpy.ufunc size changed, may indicate binary incompatibility. Expected 192 from C header, got 216 from PyObject\n",
      "  return f(*args, **kwds)\n",
      "C:\\Users\\jssrv\\_programs\\Anaconda3\\lib\\importlib\\_bootstrap.py:219: RuntimeWarning: numpy.ufunc size changed, may indicate binary incompatibility. Expected 192 from C header, got 216 from PyObject\n",
      "  return f(*args, **kwds)\n",
      "C:\\Users\\jssrv\\_programs\\Anaconda3\\lib\\importlib\\_bootstrap.py:219: RuntimeWarning: numpy.ufunc size changed, may indicate binary incompatibility. Expected 192 from C header, got 216 from PyObject\n",
      "  return f(*args, **kwds)\n",
      "C:\\Users\\jssrv\\_programs\\Anaconda3\\lib\\importlib\\_bootstrap.py:219: RuntimeWarning: numpy.ufunc size changed, may indicate binary incompatibility. Expected 192 from C header, got 216 from PyObject\n",
      "  return f(*args, **kwds)\n",
      "C:\\Users\\jssrv\\_programs\\Anaconda3\\lib\\importlib\\_bootstrap.py:219: RuntimeWarning: numpy.ufunc size changed, may indicate binary incompatibility. Expected 192 from C header, got 216 from PyObject\n",
      "  return f(*args, **kwds)\n"
     ]
    }
   ],
   "source": [
    "#libraries\n",
    "import math\n",
    "import tensorflow as tf\n",
    "import numpy as np\n",
    "from PIL import Image\n",
    "from tensorflow.examples.tutorials.mnist import input_data\n",
    "from utils import tile_raster_images\n"
   ]
  },
  {
   "cell_type": "code",
   "execution_count": 8,
   "metadata": {},
   "outputs": [],
   "source": [
    "#class that defines the behavious of the RBM\n",
    "class RBM(object):\n",
    "    def __init__(self,input_size, output_size):\n",
    "        #defineing the hyperparameters\n",
    "        self._input_size = input_size\n",
    "        self._output_size = output_size\n",
    "        self.epochs = 5 #epoch is a training iteration\n",
    "        self.learning_rate = 1.0 #the step used in the gradiate descent\n",
    "        self.batchsize = 100 #size of how much data will be used for training per sub iteration\n",
    "        \n",
    "        #initializing weights and biases as matrices full of zeroes\n",
    "        self.w = np.zeros([input_size,output_size],np.float32)\n",
    "        self.hb = np.zeros([output_size],np.float32) #creates ad ninitializes hidden bias\n",
    "        self.vb = np.zeros([input_size],np.float32) #creates and initializes the visible bias\n",
    "        \n",
    "    #fits the results from the weighted visible layer plus the bias into a sigmoid curve\n",
    "    def prob_h_given_v(self,visible,w,hb):\n",
    "        #sigmoid\n",
    "        return tf.nn.sigmoid(tf.matmul(visible,w)+hb)\n",
    "    \n",
    "    #fits the results from the weighted hidden layer plus the bias into a sigmoid curve\n",
    "    def prob_v_given_h(self,probs):\n",
    "        #sigmoid\n",
    "        return tf.nn.sigmoid(tf.matmul(hidden, tf.transpose(w))+vb)\n",
    "    \n",
    "    #generates the sample probablility\n",
    "    def sample_prob(self,probs):\n",
    "        return tf.nn.relu(tf.sign(probs - tf.random_uniform(tf.shape(probs))))\n",
    "    \n",
    "    #training method for the model\n",
    "    def train(self,x):\n",
    "        #create the placeholder for the parameters\n",
    "        _w = tf.placeholder(\"float\",[self._input_size],np.float32)\n",
    "        _hb = tf.placeholder(\"float\",[self._output_size])\n",
    "        _vb = tf.placeholder(\"float\",[self._input_size])\n",
    "        \n",
    "        prv_w = np.zeros([self._input_size,self._output_size],np.float32) #initialize weights\n",
    "        prv_hb = np.zeros([self._output_size],np.float32)\n",
    "        prv_vb = np.zeros([self._input_size],np.float32)\n",
    "        \n",
    "        cur_w = np.zeros([self._input_size,self._output_size],np.float32)\n",
    "        cur_hb = np.zeros([self._output],np.float32)\n",
    "        cur_vb = np.zeros([self._input],np.float32)\n",
    "        v0 = tf.placeholder(\"float32\",[None,self._input_size])\n",
    "        \n",
    "        #initialize with smaple probabilities\n",
    "        h0 = self.sample_prob(self.prob_h_given_v(v0,_w,_hb))\n",
    "        v1 = self.sample_prob(self.prob_v_gien_h(h0,_w,_vb))\n",
    "        h1 = self.prob_h_given_v(v1,_w,_hb)\n",
    "        \n",
    "        #create the gradiates\n",
    "        positive_grad = tf.matmul(tf.transpose(v0),h0)\n",
    "        negative_grad = tf.matmul(tf.transpose(v1),h1)\n",
    "        \n",
    "        #update learning rates for the layers\n",
    "        update_w = _w + self.learning_rate*(positive_grad - negative_grad)/tf.to_float(tf.shape(v0)[0])\n",
    "        update_vb = _vb + self.learning_rate*tf.reduce_mean(v0 - v1,0)\n",
    "        update_hb = _hb + self.learning_rate*tf.reduce_mean(h0 - h1,0)\n",
    "        \n",
    "        ##find error rate\n",
    "        err = tf.reduce_mean(tf.square(v0-v1))\n",
    "        \n",
    "        #training loop\n",
    "        with tf.Session() as sess:\n",
    "            sess.run(tf.global_variables_initializer())\n",
    "            #for each epoch\n",
    "            for epoch in range(self.epochs):\n",
    "                #for each step/batch\n",
    "                for start, end in zip(range(0,len(x),self.batchsize),range(self.batchsize,len(x),self.batchsize)):\n",
    "                    batch = x[start:end]\n",
    "                    cur_w = sess.run(update_w,feed_dict={v0:batch,_w:prv_w,_hb:prv_hb,_vb:prv_vb})\n",
    "                    cur_hb = sess.run(update_hb,feed_dict={v0:batch,_w:prv_w,_hb:prv_hb,_vb:prv_vb})\n",
    "                    cur_vb = sess.run(update_vb,feed_dict={v0:batch,_w:prv_w,_hb:prv_hb,_vb:prv_vb})\n",
    "                    prv_w=cur_w\n",
    "                    prv_hb=cur_hb\n",
    "                    prv_vb=cur_vb\n",
    "                error = sess.run(err,feed_dict={v0:x,_w:cur_w,_vb:cur_vb, _hb: cur_hb})\n",
    "                print('Epoch: %d'%epoch,'reconstruction error: %f'% error)\n",
    "            self.w = prv_w\n",
    "            self.hb = prv_hb\n",
    "            self.vb = prv_vb\n",
    "            \n",
    "    #create expected output for the DBN\n",
    "    def rbm_output(self,x):\n",
    "        input_x = tf.constant(x)\n",
    "        _w = tf.constant(self.w)\n",
    "        _hb = tf.constant(self.hb)\n",
    "        out = tf.nn.sigmoid(tf.matmul(input_x,_w)+_hb)\n",
    "        with tf.Session() as sess:\n",
    "            sess.run(tf.global_variables_initializer())\n",
    "            return sess.run(out)\n",
    "            "
   ]
  },
  {
   "cell_type": "code",
   "execution_count": 9,
   "metadata": {},
   "outputs": [
    {
     "name": "stdout",
     "output_type": "stream",
     "text": [
      "WARNING:tensorflow:From <ipython-input-9-912bffe238bf>:1: read_data_sets (from tensorflow.contrib.learn.python.learn.datasets.mnist) is deprecated and will be removed in a future version.\n",
      "Instructions for updating:\n",
      "Please use alternatives such as official/mnist/dataset.py from tensorflow/models.\n",
      "WARNING:tensorflow:From C:\\Users\\jssrv\\_programs\\Anaconda3\\lib\\site-packages\\tensorflow\\contrib\\learn\\python\\learn\\datasets\\mnist.py:260: maybe_download (from tensorflow.contrib.learn.python.learn.datasets.base) is deprecated and will be removed in a future version.\n",
      "Instructions for updating:\n",
      "Please write your own downloading logic.\n",
      "WARNING:tensorflow:From C:\\Users\\jssrv\\_programs\\Anaconda3\\lib\\site-packages\\tensorflow\\contrib\\learn\\python\\learn\\datasets\\base.py:252: _internal_retry.<locals>.wrap.<locals>.wrapped_fn (from tensorflow.contrib.learn.python.learn.datasets.base) is deprecated and will be removed in a future version.\n",
      "Instructions for updating:\n",
      "Please use urllib or similar directly.\n",
      "Successfully downloaded train-images-idx3-ubyte.gz 9912422 bytes.\n",
      "WARNING:tensorflow:From C:\\Users\\jssrv\\_programs\\Anaconda3\\lib\\site-packages\\tensorflow\\contrib\\learn\\python\\learn\\datasets\\mnist.py:262: extract_images (from tensorflow.contrib.learn.python.learn.datasets.mnist) is deprecated and will be removed in a future version.\n",
      "Instructions for updating:\n",
      "Please use tf.data to implement this functionality.\n",
      "Extracting MNIST_data/train-images-idx3-ubyte.gz\n",
      "Successfully downloaded train-labels-idx1-ubyte.gz 28881 bytes.\n",
      "WARNING:tensorflow:From C:\\Users\\jssrv\\_programs\\Anaconda3\\lib\\site-packages\\tensorflow\\contrib\\learn\\python\\learn\\datasets\\mnist.py:267: extract_labels (from tensorflow.contrib.learn.python.learn.datasets.mnist) is deprecated and will be removed in a future version.\n",
      "Instructions for updating:\n",
      "Please use tf.data to implement this functionality.\n",
      "Extracting MNIST_data/train-labels-idx1-ubyte.gz\n",
      "WARNING:tensorflow:From C:\\Users\\jssrv\\_programs\\Anaconda3\\lib\\site-packages\\tensorflow\\contrib\\learn\\python\\learn\\datasets\\mnist.py:110: dense_to_one_hot (from tensorflow.contrib.learn.python.learn.datasets.mnist) is deprecated and will be removed in a future version.\n",
      "Instructions for updating:\n",
      "Please use tf.one_hot on tensors.\n",
      "Successfully downloaded t10k-images-idx3-ubyte.gz 1648877 bytes.\n",
      "Extracting MNIST_data/t10k-images-idx3-ubyte.gz\n",
      "Successfully downloaded t10k-labels-idx1-ubyte.gz 4542 bytes.\n",
      "Extracting MNIST_data/t10k-labels-idx1-ubyte.gz\n",
      "WARNING:tensorflow:From C:\\Users\\jssrv\\_programs\\Anaconda3\\lib\\site-packages\\tensorflow\\contrib\\learn\\python\\learn\\datasets\\mnist.py:290: DataSet.__init__ (from tensorflow.contrib.learn.python.learn.datasets.mnist) is deprecated and will be removed in a future version.\n",
      "Instructions for updating:\n",
      "Please use alternatives such as official/mnist/dataset.py from tensorflow/models.\n"
     ]
    }
   ],
   "source": [
    "mnist = input_data.read_data_sets(\"MNIST_data/\",one_hot=True)\n",
    "trX,trY,teX,teY = mnist.train.images,mnist.train.labels,mnist.test.images,mnist.test.labels"
   ]
  },
  {
   "cell_type": "code",
   "execution_count": null,
   "metadata": {},
   "outputs": [],
   "source": []
  }
 ],
 "metadata": {
  "kernelspec": {
   "display_name": "Python 3",
   "language": "python",
   "name": "python3"
  },
  "language_info": {
   "codemirror_mode": {
    "name": "ipython",
    "version": 3
   },
   "file_extension": ".py",
   "mimetype": "text/x-python",
   "name": "python",
   "nbconvert_exporter": "python",
   "pygments_lexer": "ipython3",
   "version": "3.7.6"
  }
 },
 "nbformat": 4,
 "nbformat_minor": 4
}
