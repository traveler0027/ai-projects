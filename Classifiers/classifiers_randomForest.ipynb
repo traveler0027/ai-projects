{
 "cells": [
  {
   "cell_type": "code",
   "execution_count": 0,
   "metadata": {
    "colab": {
     "base_uri": "https://localhost:8080/",
     "height": 34
    },
    "colab_type": "code",
    "executionInfo": {
     "elapsed": 688,
     "status": "ok",
     "timestamp": 1589570540294,
     "user": {
      "displayName": "J. Rivera",
      "photoUrl": "",
      "userId": "10685724011198662101"
     },
     "user_tz": 300
    },
    "id": "T0Cgs3uDGQ0c",
    "outputId": "53bf755b-856b-41b6-a447-5aeae347b166"
   },
   "outputs": [
    {
     "name": "stdout",
     "output_type": "stream",
     "text": [
      "/content/drive/My Drive/Colab Notebooks\n"
     ]
    }
   ],
   "source": [
    "cd /content/drive/\"My Drive\"/\"Colab Notebooks\""
   ]
  },
  {
   "cell_type": "markdown",
   "metadata": {
    "colab_type": "text",
    "id": "pC5UVLdXGqsb"
   },
   "source": [
    "Import dependencies"
   ]
  },
  {
   "cell_type": "code",
   "execution_count": 0,
   "metadata": {
    "colab": {
     "base_uri": "https://localhost:8080/",
     "height": 71
    },
    "colab_type": "code",
    "executionInfo": {
     "elapsed": 1121,
     "status": "ok",
     "timestamp": 1589570544961,
     "user": {
      "displayName": "J. Rivera",
      "photoUrl": "",
      "userId": "10685724011198662101"
     },
     "user_tz": 300
    },
    "id": "h9WGrsIaKmYG",
    "outputId": "42bc4949-1110-4ecd-8136-55b05e0b468e"
   },
   "outputs": [
    {
     "name": "stderr",
     "output_type": "stream",
     "text": [
      "/usr/local/lib/python3.6/dist-packages/statsmodels/tools/_testing.py:19: FutureWarning: pandas.util.testing is deprecated. Use the functions in the public API at pandas.testing instead.\n",
      "  import pandas.util.testing as tm\n"
     ]
    }
   ],
   "source": [
    "import pandas as pd\n",
    "import matplotlib.pyplot as plt\n",
    "import seaborn as sns\n",
    "import numpy as np\n",
    "\n",
    "from sklearn.model_selection import train_test_split\n",
    "from sklearn.ensemble import RandomForestClassifier\n",
    "from sklearn.model_selection import cross_val_score, GridSearchCV\n",
    "from sklearn.metrics import accuracy_score, precision_score, recall_score\n",
    "\n",
    "\n",
    "%matplotlib inline\n"
   ]
  },
  {
   "cell_type": "markdown",
   "metadata": {
    "colab_type": "text",
    "id": "2lqQDlTVyAHv"
   },
   "source": [
    "Read in data"
   ]
  },
  {
   "cell_type": "code",
   "execution_count": 0,
   "metadata": {
    "colab": {
     "base_uri": "https://localhost:8080/",
     "height": 391
    },
    "colab_type": "code",
    "executionInfo": {
     "elapsed": 915,
     "status": "ok",
     "timestamp": 1589570574920,
     "user": {
      "displayName": "J. Rivera",
      "photoUrl": "",
      "userId": "10685724011198662101"
     },
     "user_tz": 300
    },
    "id": "BXyvcY4tyCDn",
    "outputId": "004b6daf-6c52-4ba9-8e29-cb387fbce82a"
   },
   "outputs": [
    {
     "data": {
      "text/html": [
       "<div>\n",
       "<style scoped>\n",
       "    .dataframe tbody tr th:only-of-type {\n",
       "        vertical-align: middle;\n",
       "    }\n",
       "\n",
       "    .dataframe tbody tr th {\n",
       "        vertical-align: top;\n",
       "    }\n",
       "\n",
       "    .dataframe thead th {\n",
       "        text-align: right;\n",
       "    }\n",
       "</style>\n",
       "<table border=\"1\" class=\"dataframe\">\n",
       "  <thead>\n",
       "    <tr style=\"text-align: right;\">\n",
       "      <th></th>\n",
       "      <th>PassengerId</th>\n",
       "      <th>Survived</th>\n",
       "      <th>Pclass</th>\n",
       "      <th>Name</th>\n",
       "      <th>Sex</th>\n",
       "      <th>Age</th>\n",
       "      <th>SibSp</th>\n",
       "      <th>Parch</th>\n",
       "      <th>Ticket</th>\n",
       "      <th>Fare</th>\n",
       "      <th>Cabin</th>\n",
       "      <th>Embarked</th>\n",
       "    </tr>\n",
       "  </thead>\n",
       "  <tbody>\n",
       "    <tr>\n",
       "      <th>0</th>\n",
       "      <td>1</td>\n",
       "      <td>0</td>\n",
       "      <td>3</td>\n",
       "      <td>Braund, Mr. Owen Harris</td>\n",
       "      <td>male</td>\n",
       "      <td>22.0</td>\n",
       "      <td>1</td>\n",
       "      <td>0</td>\n",
       "      <td>A/5 21171</td>\n",
       "      <td>7.2500</td>\n",
       "      <td>NaN</td>\n",
       "      <td>S</td>\n",
       "    </tr>\n",
       "    <tr>\n",
       "      <th>1</th>\n",
       "      <td>2</td>\n",
       "      <td>1</td>\n",
       "      <td>1</td>\n",
       "      <td>Cumings, Mrs. John Bradley (Florence Briggs Th...</td>\n",
       "      <td>female</td>\n",
       "      <td>38.0</td>\n",
       "      <td>1</td>\n",
       "      <td>0</td>\n",
       "      <td>PC 17599</td>\n",
       "      <td>71.2833</td>\n",
       "      <td>C85</td>\n",
       "      <td>C</td>\n",
       "    </tr>\n",
       "    <tr>\n",
       "      <th>2</th>\n",
       "      <td>3</td>\n",
       "      <td>1</td>\n",
       "      <td>3</td>\n",
       "      <td>Heikkinen, Miss. Laina</td>\n",
       "      <td>female</td>\n",
       "      <td>26.0</td>\n",
       "      <td>0</td>\n",
       "      <td>0</td>\n",
       "      <td>STON/O2. 3101282</td>\n",
       "      <td>7.9250</td>\n",
       "      <td>NaN</td>\n",
       "      <td>S</td>\n",
       "    </tr>\n",
       "    <tr>\n",
       "      <th>3</th>\n",
       "      <td>4</td>\n",
       "      <td>1</td>\n",
       "      <td>1</td>\n",
       "      <td>Futrelle, Mrs. Jacques Heath (Lily May Peel)</td>\n",
       "      <td>female</td>\n",
       "      <td>35.0</td>\n",
       "      <td>1</td>\n",
       "      <td>0</td>\n",
       "      <td>113803</td>\n",
       "      <td>53.1000</td>\n",
       "      <td>C123</td>\n",
       "      <td>S</td>\n",
       "    </tr>\n",
       "    <tr>\n",
       "      <th>4</th>\n",
       "      <td>5</td>\n",
       "      <td>0</td>\n",
       "      <td>3</td>\n",
       "      <td>Allen, Mr. William Henry</td>\n",
       "      <td>male</td>\n",
       "      <td>35.0</td>\n",
       "      <td>0</td>\n",
       "      <td>0</td>\n",
       "      <td>373450</td>\n",
       "      <td>8.0500</td>\n",
       "      <td>NaN</td>\n",
       "      <td>S</td>\n",
       "    </tr>\n",
       "  </tbody>\n",
       "</table>\n",
       "</div>"
      ],
      "text/plain": [
       "   PassengerId  Survived  Pclass  ...     Fare Cabin  Embarked\n",
       "0            1         0       3  ...   7.2500   NaN         S\n",
       "1            2         1       1  ...  71.2833   C85         C\n",
       "2            3         1       3  ...   7.9250   NaN         S\n",
       "3            4         1       1  ...  53.1000  C123         S\n",
       "4            5         0       3  ...   8.0500   NaN         S\n",
       "\n",
       "[5 rows x 12 columns]"
      ]
     },
     "execution_count": 6,
     "metadata": {
      "tags": []
     },
     "output_type": "execute_result"
    }
   ],
   "source": [
    "titanic = pd.read_csv(\"data/titanic.csv\")\n",
    "titanic.head()"
   ]
  },
  {
   "cell_type": "markdown",
   "metadata": {
    "colab_type": "text",
    "id": "w4jfpFalyspV"
   },
   "source": [
    "Clean up data"
   ]
  },
  {
   "cell_type": "code",
   "execution_count": 0,
   "metadata": {
    "colab": {
     "base_uri": "https://localhost:8080/",
     "height": 238
    },
    "colab_type": "code",
    "executionInfo": {
     "elapsed": 522,
     "status": "ok",
     "timestamp": 1589570580977,
     "user": {
      "displayName": "J. Rivera",
      "photoUrl": "",
      "userId": "10685724011198662101"
     },
     "user_tz": 300
    },
    "id": "46r13t5TyuuF",
    "outputId": "6a9fca6b-b7cb-4122-f988-4065292446c5"
   },
   "outputs": [
    {
     "data": {
      "text/plain": [
       "PassengerId      0\n",
       "Survived         0\n",
       "Pclass           0\n",
       "Name             0\n",
       "Sex              0\n",
       "Age            177\n",
       "SibSp            0\n",
       "Parch            0\n",
       "Ticket           0\n",
       "Fare             0\n",
       "Cabin          687\n",
       "Embarked         2\n",
       "dtype: int64"
      ]
     },
     "execution_count": 7,
     "metadata": {
      "tags": []
     },
     "output_type": "execute_result"
    }
   ],
   "source": [
    "titanic.isnull().sum()"
   ]
  },
  {
   "cell_type": "code",
   "execution_count": 0,
   "metadata": {
    "colab": {},
    "colab_type": "code",
    "id": "sWQa8quRzFFO"
   },
   "outputs": [],
   "source": [
    "titanic[\"Age\"].fillna(titanic[\"Age\"].mean(), inplace=True)"
   ]
  },
  {
   "cell_type": "markdown",
   "metadata": {
    "colab_type": "text",
    "id": "j1C_Txrt3lzJ"
   },
   "source": [
    "Combine sibSp & parch"
   ]
  },
  {
   "cell_type": "code",
   "execution_count": 0,
   "metadata": {
    "colab": {
     "base_uri": "https://localhost:8080/",
     "height": 738
    },
    "colab_type": "code",
    "executionInfo": {
     "elapsed": 1512,
     "status": "ok",
     "timestamp": 1589570587222,
     "user": {
      "displayName": "J. Rivera",
      "photoUrl": "",
      "userId": "10685724011198662101"
     },
     "user_tz": 300
    },
    "id": "v3r5fDUV3kWj",
    "outputId": "b67a7bdb-1bdc-43ab-d8d8-bfedbd048114"
   },
   "outputs": [
    {
     "data": {
      "text/plain": [
       "<Figure size 432x288 with 0 Axes>"
      ]
     },
     "metadata": {
      "tags": []
     },
     "output_type": "display_data"
    },
    {
     "data": {
      "image/png": "[encoded data removed]",
      "text/plain": [
       "<Figure size 720x360 with 1 Axes>"
      ]
     },
     "metadata": {
      "needs_background": "light",
      "tags": []
     },
     "output_type": "display_data"
    },
    {
     "data": {
      "image/png": "[encoded data removed]",
      "text/plain": [
       "<Figure size 720x360 with 1 Axes>"
      ]
     },
     "metadata": {
      "needs_background": "light",
      "tags": []
     },
     "output_type": "display_data"
    }
   ],
   "source": [
    "for i, col in enumerate([\"SibSp\",\"Parch\"]):\n",
    "  plt.figure(i)\n",
    "  sns.catplot(x=col, y=\"Survived\", data=titanic, kind =\"point\", aspect=2)"
   ]
  },
  {
   "cell_type": "code",
   "execution_count": 0,
   "metadata": {
    "colab": {},
    "colab_type": "code",
    "id": "xjYclRY24pAT"
   },
   "outputs": [],
   "source": [
    "titanic[\"Family_cnt\"] = titanic[\"SibSp\"] + titanic[\"Parch\"]"
   ]
  },
  {
   "cell_type": "code",
   "execution_count": 0,
   "metadata": {
    "colab": {},
    "colab_type": "code",
    "id": "TDshyTS44_DR"
   },
   "outputs": [],
   "source": [
    "#axis = 1 is for columns, axis=0 is for rows\n",
    "titanic.drop([\"PassengerId\",\"SibSp\",\"Parch\"],axis=1,inplace=True)"
   ]
  },
  {
   "cell_type": "markdown",
   "metadata": {
    "colab_type": "text",
    "id": "bOM897Tr5t5t"
   },
   "source": [
    "Cleaning up Categorical Features"
   ]
  },
  {
   "cell_type": "code",
   "execution_count": 0,
   "metadata": {
    "colab": {},
    "colab_type": "code",
    "id": "a6nv65we5y9g"
   },
   "outputs": [],
   "source": [
    "#create indicator for cabin\n",
    "titanic[\"Cabin_ind\"] = np.where(titanic[\"Cabin\"].isnull(),0,1)"
   ]
  },
  {
   "cell_type": "code",
   "execution_count": 0,
   "metadata": {
    "colab": {},
    "colab_type": "code",
    "id": "qtEfGDZN6lzP"
   },
   "outputs": [],
   "source": [
    "#convert sex to numberic\n",
    "\n",
    "#create dictionary\n",
    "gender = {'male':0,'female':1}\n",
    "\n",
    "#map gender to map\n",
    "titanic[\"Sex\"] = titanic[\"Sex\"].map(gender)"
   ]
  },
  {
   "cell_type": "code",
   "execution_count": 0,
   "metadata": {
    "colab": {},
    "colab_type": "code",
    "id": "yMwSMKjS7Zij"
   },
   "outputs": [],
   "source": [
    "#drop unnecessary features\n",
    "titanic.drop([\"Cabin\",\"Embarked\",\"Name\",\"Ticket\"],axis=1,inplace=True)"
   ]
  },
  {
   "cell_type": "code",
   "execution_count": 0,
   "metadata": {
    "colab": {
     "base_uri": "https://localhost:8080/",
     "height": 204
    },
    "colab_type": "code",
    "executionInfo": {
     "elapsed": 451,
     "status": "ok",
     "timestamp": 1589570601860,
     "user": {
      "displayName": "J. Rivera",
      "photoUrl": "",
      "userId": "10685724011198662101"
     },
     "user_tz": 300
    },
    "id": "GlFRqm_F7tzV",
    "outputId": "eea17a82-877e-4d89-f78c-0fbd6d4b9342"
   },
   "outputs": [
    {
     "data": {
      "text/html": [
       "<div>\n",
       "<style scoped>\n",
       "    .dataframe tbody tr th:only-of-type {\n",
       "        vertical-align: middle;\n",
       "    }\n",
       "\n",
       "    .dataframe tbody tr th {\n",
       "        vertical-align: top;\n",
       "    }\n",
       "\n",
       "    .dataframe thead th {\n",
       "        text-align: right;\n",
       "    }\n",
       "</style>\n",
       "<table border=\"1\" class=\"dataframe\">\n",
       "  <thead>\n",
       "    <tr style=\"text-align: right;\">\n",
       "      <th></th>\n",
       "      <th>Survived</th>\n",
       "      <th>Pclass</th>\n",
       "      <th>Sex</th>\n",
       "      <th>Age</th>\n",
       "      <th>Fare</th>\n",
       "      <th>Family_cnt</th>\n",
       "      <th>Cabin_ind</th>\n",
       "    </tr>\n",
       "  </thead>\n",
       "  <tbody>\n",
       "    <tr>\n",
       "      <th>0</th>\n",
       "      <td>0</td>\n",
       "      <td>3</td>\n",
       "      <td>0</td>\n",
       "      <td>22.0</td>\n",
       "      <td>7.2500</td>\n",
       "      <td>1</td>\n",
       "      <td>0</td>\n",
       "    </tr>\n",
       "    <tr>\n",
       "      <th>1</th>\n",
       "      <td>1</td>\n",
       "      <td>1</td>\n",
       "      <td>1</td>\n",
       "      <td>38.0</td>\n",
       "      <td>71.2833</td>\n",
       "      <td>1</td>\n",
       "      <td>1</td>\n",
       "    </tr>\n",
       "    <tr>\n",
       "      <th>2</th>\n",
       "      <td>1</td>\n",
       "      <td>3</td>\n",
       "      <td>1</td>\n",
       "      <td>26.0</td>\n",
       "      <td>7.9250</td>\n",
       "      <td>0</td>\n",
       "      <td>0</td>\n",
       "    </tr>\n",
       "    <tr>\n",
       "      <th>3</th>\n",
       "      <td>1</td>\n",
       "      <td>1</td>\n",
       "      <td>1</td>\n",
       "      <td>35.0</td>\n",
       "      <td>53.1000</td>\n",
       "      <td>1</td>\n",
       "      <td>1</td>\n",
       "    </tr>\n",
       "    <tr>\n",
       "      <th>4</th>\n",
       "      <td>0</td>\n",
       "      <td>3</td>\n",
       "      <td>0</td>\n",
       "      <td>35.0</td>\n",
       "      <td>8.0500</td>\n",
       "      <td>0</td>\n",
       "      <td>0</td>\n",
       "    </tr>\n",
       "  </tbody>\n",
       "</table>\n",
       "</div>"
      ],
      "text/plain": [
       "   Survived  Pclass  Sex   Age     Fare  Family_cnt  Cabin_ind\n",
       "0         0       3    0  22.0   7.2500           1          0\n",
       "1         1       1    1  38.0  71.2833           1          1\n",
       "2         1       3    1  26.0   7.9250           0          0\n",
       "3         1       1    1  35.0  53.1000           1          1\n",
       "4         0       3    0  35.0   8.0500           0          0"
      ]
     },
     "execution_count": 15,
     "metadata": {
      "tags": []
     },
     "output_type": "execute_result"
    }
   ],
   "source": [
    "titanic.head()"
   ]
  },
  {
   "cell_type": "markdown",
   "metadata": {
    "colab_type": "text",
    "id": "YP6o803t8brT"
   },
   "source": [
    "Split data into training, validation, and test sets"
   ]
  },
  {
   "cell_type": "code",
   "execution_count": 0,
   "metadata": {
    "colab": {},
    "colab_type": "code",
    "id": "TsrHvDIb8fJr"
   },
   "outputs": [],
   "source": [
    "features = titanic.drop(\"Survived\",axis=1)\n",
    "labels = titanic[\"Survived\"]\n",
    "\n",
    "x_train, x_test, y_train, y_test = train_test_split(features,labels,test_size=0.4,random_state=42)\n",
    "x_test, x_val, y_test, y_val = train_test_split(x_test,y_test,test_size=0.5,random_state=42)"
   ]
  },
  {
   "cell_type": "code",
   "execution_count": 0,
   "metadata": {
    "colab": {
     "base_uri": "https://localhost:8080/",
     "height": 68
    },
    "colab_type": "code",
    "executionInfo": {
     "elapsed": 507,
     "status": "ok",
     "timestamp": 1589570649347,
     "user": {
      "displayName": "J. Rivera",
      "photoUrl": "",
      "userId": "10685724011198662101"
     },
     "user_tz": 300
    },
    "id": "xSJi8j6R95C1",
    "outputId": "f6837cc6-da29-47fe-b959-e5ee3c4d7acc"
   },
   "outputs": [
    {
     "name": "stdout",
     "output_type": "stream",
     "text": [
      "0.6\n",
      "0.2\n",
      "0.2\n"
     ]
    }
   ],
   "source": [
    "for dataset in [y_train, y_val, y_test]:\n",
    "  print(round(len(dataset)/len(labels),2))"
   ]
  },
  {
   "cell_type": "markdown",
   "metadata": {
    "colab_type": "text",
    "id": "cceearah-gso"
   },
   "source": [
    "Build the model"
   ]
  },
  {
   "cell_type": "code",
   "execution_count": 0,
   "metadata": {
    "colab": {},
    "colab_type": "code",
    "id": "-ifWALWR-iie"
   },
   "outputs": [],
   "source": [
    "rf = RandomForestClassifier()\n",
    "scores = cross_val_score(rf,x_train,y_train.values.ravel(),cv=5)\n",
    "#.values.ravel() turns pandas data object into an array for sklearn to handle\n",
    "# random forest createst a decition tree forest"
   ]
  },
  {
   "cell_type": "code",
   "execution_count": 0,
   "metadata": {
    "colab": {
     "base_uri": "https://localhost:8080/",
     "height": 34
    },
    "colab_type": "code",
    "executionInfo": {
     "elapsed": 490,
     "status": "ok",
     "timestamp": 1589570658844,
     "user": {
      "displayName": "J. Rivera",
      "photoUrl": "",
      "userId": "10685724011198662101"
     },
     "user_tz": 300
    },
    "id": "tBZeZIvaB4ft",
    "outputId": "b0a3e1b9-17d2-4cbf-9bc3-ecd96ac2d06d"
   },
   "outputs": [
    {
     "data": {
      "text/plain": [
       "array([0.82242991, 0.82242991, 0.80373832, 0.80373832, 0.81132075])"
      ]
     },
     "execution_count": 20,
     "metadata": {
      "tags": []
     },
     "output_type": "execute_result"
    }
   ],
   "source": [
    "scores"
   ]
  },
  {
   "cell_type": "code",
   "execution_count": 0,
   "metadata": {
    "colab": {},
    "colab_type": "code",
    "id": "g7KkOSPOC5ac"
   },
   "outputs": [],
   "source": [
    "#to help us figure out the best parameters\n",
    "def print_results(results):\n",
    "  print(\"Best Parameters: {}\\n\".format(results.best_params_))\n",
    "\n",
    "  means = results.cv_results_['mean_test_score']\n",
    "  stds = results.cv_results_['std_test_score']\n",
    "  for mean, std, params in zip(means, stds, results.cv_results_['params']):\n",
    "    print('{} (+/-{}) for {}'.format(round(mean,3),round(std*2,3),params))"
   ]
  },
  {
   "cell_type": "code",
   "execution_count": 0,
   "metadata": {
    "colab": {
     "base_uri": "https://localhost:8080/",
     "height": 255
    },
    "colab_type": "code",
    "executionInfo": {
     "elapsed": 5431,
     "status": "ok",
     "timestamp": 1589570669208,
     "user": {
      "displayName": "J. Rivera",
      "photoUrl": "",
      "userId": "10685724011198662101"
     },
     "user_tz": 300
    },
    "id": "bhLrXpM_E60W",
    "outputId": "b3dbee18-5f2d-4780-b6f8-e88c4d3854f1"
   },
   "outputs": [
    {
     "name": "stdout",
     "output_type": "stream",
     "text": [
      "Best Parameters: {'max_depth': 10, 'n_estimators': 50}\n",
      "\n",
      "0.798 (+/-0.108) for {'max_depth': 2, 'n_estimators': 5}\n",
      "0.79 (+/-0.104) for {'max_depth': 2, 'n_estimators': 50}\n",
      "0.798 (+/-0.127) for {'max_depth': 2, 'n_estimators': 100}\n",
      "0.79 (+/-0.072) for {'max_depth': 10, 'n_estimators': 5}\n",
      "0.826 (+/-0.045) for {'max_depth': 10, 'n_estimators': 50}\n",
      "0.817 (+/-0.059) for {'max_depth': 10, 'n_estimators': 100}\n",
      "0.801 (+/-0.056) for {'max_depth': 20, 'n_estimators': 5}\n",
      "0.805 (+/-0.036) for {'max_depth': 20, 'n_estimators': 50}\n",
      "0.809 (+/-0.027) for {'max_depth': 20, 'n_estimators': 100}\n",
      "0.809 (+/-0.037) for {'max_depth': None, 'n_estimators': 5}\n",
      "0.807 (+/-0.028) for {'max_depth': None, 'n_estimators': 50}\n",
      "0.809 (+/-0.032) for {'max_depth': None, 'n_estimators': 100}\n"
     ]
    }
   ],
   "source": [
    "parameters = {\n",
    "    'n_estimators':[5,50,100],\n",
    "    'max_depth':[2,10,20,None]\n",
    "}\n",
    "\n",
    "cv = GridSearchCV(rf,parameters, cv=5)\n",
    "cv.fit(x_train,y_train.values.ravel())\n",
    "\n",
    "print_results(cv)"
   ]
  },
  {
   "cell_type": "markdown",
   "metadata": {
    "colab_type": "text",
    "id": "Exzh4l_Ay6mH"
   },
   "source": [
    "The top 3 parameters are:\n",
    "\n",
    "0.826 (+/-0.045) for {'max_depth': 10, 'n_estimators': 50}\n",
    "\n",
    "0.817 (+/-0.059) for {'max_depth': 10, 'n_estimators': 100}\n",
    "\n",
    "0.809 (+/-0.032) for {'max_depth': None, 'n_estimators': 100}"
   ]
  },
  {
   "cell_type": "code",
   "execution_count": 0,
   "metadata": {
    "colab": {
     "base_uri": "https://localhost:8080/",
     "height": 153
    },
    "colab_type": "code",
    "executionInfo": {
     "elapsed": 759,
     "status": "ok",
     "timestamp": 1589571044876,
     "user": {
      "displayName": "J. Rivera",
      "photoUrl": "",
      "userId": "10685724011198662101"
     },
     "user_tz": 300
    },
    "id": "3vRqNRAHy-Xs",
    "outputId": "e507b50d-13b2-4d14-b0af-099b91853851"
   },
   "outputs": [
    {
     "data": {
      "text/plain": [
       "RandomForestClassifier(bootstrap=True, ccp_alpha=0.0, class_weight=None,\n",
       "                       criterion='gini', max_depth=None, max_features='auto',\n",
       "                       max_leaf_nodes=None, max_samples=None,\n",
       "                       min_impurity_decrease=0.0, min_impurity_split=None,\n",
       "                       min_samples_leaf=1, min_samples_split=2,\n",
       "                       min_weight_fraction_leaf=0.0, n_estimators=100,\n",
       "                       n_jobs=None, oob_score=False, random_state=None,\n",
       "                       verbose=0, warm_start=False)"
      ]
     },
     "execution_count": 23,
     "metadata": {
      "tags": []
     },
     "output_type": "execute_result"
    }
   ],
   "source": [
    "rf1 = RandomForestClassifier(n_estimators=50,max_depth=10)\n",
    "rf1.fit(x_train, y_train.values.ravel())\n",
    "\n",
    "rf2 = RandomForestClassifier(n_estimators=100,max_depth=10)\n",
    "rf2.fit(x_train, y_train.values.ravel())\n",
    "\n",
    "rf3 = RandomForestClassifier(n_estimators=100,max_depth=None)\n",
    "rf3.fit(x_train, y_train.values.ravel())"
   ]
  },
  {
   "cell_type": "markdown",
   "metadata": {
    "colab_type": "text",
    "id": "X0zoXO0v0Wol"
   },
   "source": [
    "Evaluate Models on Validation Set"
   ]
  },
  {
   "cell_type": "code",
   "execution_count": 0,
   "metadata": {
    "colab": {
     "base_uri": "https://localhost:8080/",
     "height": 68
    },
    "colab_type": "code",
    "executionInfo": {
     "elapsed": 543,
     "status": "ok",
     "timestamp": 1589571551643,
     "user": {
      "displayName": "J. Rivera",
      "photoUrl": "",
      "userId": "10685724011198662101"
     },
     "user_tz": 300
    },
    "id": "H3XsWYYg0aXb",
    "outputId": "7e2f8758-7cb8-4570-fa5e-f6a59991a33e"
   },
   "outputs": [
    {
     "name": "stdout",
     "output_type": "stream",
     "text": [
      "Max Depth: 10/ # of Est: 50 --A: 0.804 /P: 0.825/R: 0.684\n",
      "Max Depth: 10/ # of Est: 100 --A: 0.832 /P: 0.871/R: 0.711\n",
      "Max Depth: None/ # of Est: 100 --A: 0.821 /P: 0.814/R: 0.75\n"
     ]
    }
   ],
   "source": [
    "for mdl in [rf1,rf2,rf3]:\n",
    "  y_pred = mdl.predict(x_val)\n",
    "  accuracy= round(accuracy_score(y_val,y_pred),3)\n",
    "  precision=round(precision_score(y_val,y_pred),3)\n",
    "  recall=round(recall_score(y_val,y_pred),3)\n",
    "  print('Max Depth: {}/ # of Est: {} --A: {} /P: {}/R: {}'.format(mdl.max_depth,mdl.n_estimators,accuracy,precision,recall))"
   ]
  },
  {
   "cell_type": "markdown",
   "metadata": {
    "colab_type": "text",
    "id": "wd6xI1qz26CI"
   },
   "source": [
    "Run model on test set"
   ]
  },
  {
   "cell_type": "code",
   "execution_count": 0,
   "metadata": {
    "colab": {
     "base_uri": "https://localhost:8080/",
     "height": 34
    },
    "colab_type": "code",
    "executionInfo": {
     "elapsed": 620,
     "status": "ok",
     "timestamp": 1589571953946,
     "user": {
      "displayName": "J. Rivera",
      "photoUrl": "",
      "userId": "10685724011198662101"
     },
     "user_tz": 300
    },
    "id": "PucBFGpA2-dZ",
    "outputId": "3c7cbc17-ede5-44e6-81fb-5e1652daae15"
   },
   "outputs": [
    {
     "name": "stdout",
     "output_type": "stream",
     "text": [
      "Max Depth: None/ # of Est: 100 --A: 0.787 /P: 0.737/R: 0.646\n"
     ]
    }
   ],
   "source": [
    "y_pred = rf2.predict(x_test)\n",
    "accuracy=round(accuracy_score(y_test,y_pred),3)\n",
    "precision=round(precision_score(y_test,y_pred),3)\n",
    "recall=round(recall_score(y_test,y_pred),3)\n",
    "print('Max Depth: {}/ # of Est: {} --A: {} /P: {}/R: {}'.format(mdl.max_depth,mdl.n_estimators,accuracy,precision,recall))\n"
   ]
  }
 ],
 "metadata": {
  "colab": {
   "authorship_tag": "ABX9TyPNaCZoKB4L1BzMe6qqmGkh",
   "collapsed_sections": [],
   "name": "RandomForestClassifier.ipynb",
   "provenance": []
  },
  "kernelspec": {
   "display_name": "Python 3",
   "language": "python",
   "name": "python3"
  },
  "language_info": {
   "codemirror_mode": {
    "name": "ipython",
    "version": 3
   },
   "file_extension": ".py",
   "mimetype": "text/x-python",
   "name": "python",
   "nbconvert_exporter": "python",
   "pygments_lexer": "ipython3",
   "version": "3.7.6"
  }
 },
 "nbformat": 4,
 "nbformat_minor": 1
}
