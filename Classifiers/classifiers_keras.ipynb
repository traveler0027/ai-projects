{
 "cells": [
  {
   "cell_type": "code",
   "execution_count": 0,
   "metadata": {
    "colab": {
     "base_uri": "https://localhost:8080/",
     "height": 80
    },
    "colab_type": "code",
    "executionInfo": {
     "elapsed": 2350,
     "status": "ok",
     "timestamp": 1581226776738,
     "user": {
      "displayName": "J Rivera",
      "photoUrl": "",
      "userId": "10685724011198662101"
     },
     "user_tz": 360
    },
    "id": "BlCUVxklsFYi",
    "outputId": "9527d1ca-fb3b-4d07-fab5-dcd2d87566a7"
   },
   "outputs": [
    {
     "name": "stderr",
     "output_type": "stream",
     "text": [
      "Using TensorFlow backend.\n"
     ]
    },
    {
     "data": {
      "text/html": [
       "<p style=\"color: red;\">\n",
       "The default version of TensorFlow in Colab will soon switch to TensorFlow 2.x.<br>\n",
       "We recommend you <a href=\"https://www.tensorflow.org/guide/migrate\" target=\"_blank\">upgrade</a> now \n",
       "or ensure your notebook will continue to use TensorFlow 1.x via the <code>%tensorflow_version 1.x</code> magic:\n",
       "<a href=\"https://colab.research.google.com/notebooks/tensorflow_version.ipynb\" target=\"_blank\">more info</a>.</p>\n"
      ],
      "text/plain": [
       "<IPython.core.display.HTML object>"
      ]
     },
     "metadata": {
      "tags": []
     },
     "output_type": "display_data"
    }
   ],
   "source": [
    "import pandas\n",
    "from keras.models import Sequential\n",
    "from keras.layers import Dense\n",
    "from keras.wrappers.scikit_learn import KerasClassifier\n",
    "from keras.utils import np_utils\n",
    "from sklearn.model_selection import cross_val_score\n",
    "from sklearn.model_selection import KFold\n",
    "from sklearn.preprocessing import LabelEncoder\n",
    "from sklearn.pipeline import Pipeline"
   ]
  },
  {
   "cell_type": "code",
   "execution_count": 0,
   "metadata": {
    "colab": {
     "base_uri": "https://localhost:8080/",
     "height": 34
    },
    "colab_type": "code",
    "executionInfo": {
     "elapsed": 685,
     "status": "ok",
     "timestamp": 1581226832388,
     "user": {
      "displayName": "J Rivera",
      "photoUrl": "",
      "userId": "10685724011198662101"
     },
     "user_tz": 360
    },
    "id": "QC2kO9E0yAhl",
    "outputId": "d71f824d-352a-4681-c73b-eaa086acf07a"
   },
   "outputs": [
    {
     "name": "stdout",
     "output_type": "stream",
     "text": [
      "/content/drive/Shared drives/Autonomous Rover/Assignments/J/task4 classification\n"
     ]
    }
   ],
   "source": [
    "cd /content/drive/\"My Drive\"/\"Colab Notebooks\""
   ]
  },
  {
   "cell_type": "code",
   "execution_count": 0,
   "metadata": {
    "colab": {},
    "colab_type": "code",
    "id": "ReyeqztStyv6"
   },
   "outputs": [],
   "source": [
    "# load dataset\n",
    "dataframe = pandas.read_csv(\"data/iris_train.csv\",header=None)\n",
    "dataset = dataframe.values\n",
    "# split into input (X) and output (Y) variables\n",
    "X = dataset[:,0:4].astype(float)\n",
    "Y = dataset[:,4]"
   ]
  },
  {
   "cell_type": "code",
   "execution_count": 0,
   "metadata": {
    "colab": {},
    "colab_type": "code",
    "id": "Bzqqeo49lDQF"
   },
   "outputs": [],
   "source": [
    "\n",
    "# encode class values as integers\n",
    "encoder = LabelEncoder()\n",
    "encoder.fit(Y)\n",
    "encoded_Y = encoder.transform(Y)\n",
    "# convert integers to dummy variables (i.e. one hot encoded)\n",
    "dummy_y = np_utils.to_categorical(encoded_Y)"
   ]
  },
  {
   "cell_type": "code",
   "execution_count": 0,
   "metadata": {
    "colab": {},
    "colab_type": "code",
    "id": "eYLELLSzvaux"
   },
   "outputs": [],
   "source": [
    "def CreateModel():\n",
    "\tmodel = Sequential()\n",
    "\tmodel.add(Dense(8,input_dim=4,activation='relu'))\n",
    "\tmodel.add(Dense(3,activation='softmax'))\n",
    " \t\n",
    "\t# Compile model\n",
    "\tmodel.compile(loss='categorical_crossentropy', optimizer='adam',metrics=['accuracy'])\n",
    "\treturn model"
   ]
  },
  {
   "cell_type": "code",
   "execution_count": 0,
   "metadata": {
    "colab": {
     "base_uri": "https://localhost:8080/",
     "height": 187
    },
    "colab_type": "code",
    "executionInfo": {
     "elapsed": 2791,
     "status": "ok",
     "timestamp": 1581227033144,
     "user": {
      "displayName": "J Rivera",
      "photoUrl": "",
      "userId": "10685724011198662101"
     },
     "user_tz": 360
    },
    "id": "oCljhY1EnlAD",
    "outputId": "7da0e78e-2644-4d43-a437-46a7d9eb9584"
   },
   "outputs": [
    {
     "name": "stdout",
     "output_type": "stream",
     "text": [
      "WARNING:tensorflow:From /usr/local/lib/python3.6/dist-packages/keras/backend/tensorflow_backend.py:66: The name tf.get_default_graph is deprecated. Please use tf.compat.v1.get_default_graph instead.\n",
      "\n",
      "WARNING:tensorflow:From /usr/local/lib/python3.6/dist-packages/keras/backend/tensorflow_backend.py:541: The name tf.placeholder is deprecated. Please use tf.compat.v1.placeholder instead.\n",
      "\n",
      "WARNING:tensorflow:From /usr/local/lib/python3.6/dist-packages/keras/backend/tensorflow_backend.py:4432: The name tf.random_uniform is deprecated. Please use tf.random.uniform instead.\n",
      "\n",
      "WARNING:tensorflow:From /usr/local/lib/python3.6/dist-packages/keras/optimizers.py:793: The name tf.train.Optimizer is deprecated. Please use tf.compat.v1.train.Optimizer instead.\n",
      "\n",
      "WARNING:tensorflow:From /usr/local/lib/python3.6/dist-packages/keras/backend/tensorflow_backend.py:3576: The name tf.log is deprecated. Please use tf.math.log instead.\n",
      "\n"
     ]
    }
   ],
   "source": [
    "#create KerasClassifier for use in scikit-learn.\n",
    "\n",
    "model=CreateModel()\n",
    "estimator = KerasClassifier(build_fn=CreateModel, epochs=200, batch_size=5, verbose=0)"
   ]
  },
  {
   "cell_type": "code",
   "execution_count": 0,
   "metadata": {
    "colab": {},
    "colab_type": "code",
    "id": "WJTM-rzxm9Re"
   },
   "outputs": [],
   "source": [
    "#Evaluate The Model with k-Fold Cross Validation\n",
    "\n",
    "kfold = KFold(n_splits=10, shuffle=True)"
   ]
  },
  {
   "cell_type": "code",
   "execution_count": 0,
   "metadata": {
    "colab": {
     "base_uri": "https://localhost:8080/",
     "height": 357
    },
    "colab_type": "code",
    "executionInfo": {
     "elapsed": 50830,
     "status": "ok",
     "timestamp": 1581227104694,
     "user": {
      "displayName": "J Rivera",
      "photoUrl": "",
      "userId": "10685724011198662101"
     },
     "user_tz": 360
    },
    "id": "7Lzq0Iy0ngC_",
    "outputId": "d99c46a6-3f70-4f74-9307-14e038947962"
   },
   "outputs": [
    {
     "name": "stdout",
     "output_type": "stream",
     "text": [
      "WARNING:tensorflow:From /usr/local/lib/python3.6/dist-packages/tensorflow_core/python/ops/math_grad.py:1424: where (from tensorflow.python.ops.array_ops) is deprecated and will be removed in a future version.\n",
      "Instructions for updating:\n",
      "Use tf.where in 2.0, which has the same broadcast rule as np.where\n",
      "WARNING:tensorflow:From /usr/local/lib/python3.6/dist-packages/keras/backend/tensorflow_backend.py:1033: The name tf.assign_add is deprecated. Please use tf.compat.v1.assign_add instead.\n",
      "\n",
      "WARNING:tensorflow:From /usr/local/lib/python3.6/dist-packages/keras/backend/tensorflow_backend.py:1020: The name tf.assign is deprecated. Please use tf.compat.v1.assign instead.\n",
      "\n",
      "WARNING:tensorflow:From /usr/local/lib/python3.6/dist-packages/keras/backend/tensorflow_backend.py:3005: The name tf.Session is deprecated. Please use tf.compat.v1.Session instead.\n",
      "\n",
      "WARNING:tensorflow:From /usr/local/lib/python3.6/dist-packages/keras/backend/tensorflow_backend.py:190: The name tf.get_default_session is deprecated. Please use tf.compat.v1.get_default_session instead.\n",
      "\n",
      "WARNING:tensorflow:From /usr/local/lib/python3.6/dist-packages/keras/backend/tensorflow_backend.py:197: The name tf.ConfigProto is deprecated. Please use tf.compat.v1.ConfigProto instead.\n",
      "\n",
      "WARNING:tensorflow:From /usr/local/lib/python3.6/dist-packages/keras/backend/tensorflow_backend.py:207: The name tf.global_variables is deprecated. Please use tf.compat.v1.global_variables instead.\n",
      "\n",
      "WARNING:tensorflow:From /usr/local/lib/python3.6/dist-packages/keras/backend/tensorflow_backend.py:216: The name tf.is_variable_initialized is deprecated. Please use tf.compat.v1.is_variable_initialized instead.\n",
      "\n",
      "WARNING:tensorflow:From /usr/local/lib/python3.6/dist-packages/keras/backend/tensorflow_backend.py:223: The name tf.variables_initializer is deprecated. Please use tf.compat.v1.variables_initializer instead.\n",
      "\n",
      "Baseline: 95.00% (6.67%)\n"
     ]
    }
   ],
   "source": [
    "\n",
    "results = cross_val_score(estimator, X, dummy_y, cv=kfold)\n",
    "print(\"Baseline: %.2f%% (%.2f%%)\" % (results.mean()*100, results.std()*100))"
   ]
  },
  {
   "cell_type": "code",
   "execution_count": 0,
   "metadata": {
    "colab": {
     "base_uri": "https://localhost:8080/",
     "height": 1000
    },
    "colab_type": "code",
    "executionInfo": {
     "elapsed": 4376,
     "status": "ok",
     "timestamp": 1581227282645,
     "user": {
      "displayName": "J Rivera",
      "photoUrl": "",
      "userId": "10685724011198662101"
     },
     "user_tz": 360
    },
    "id": "mNDXW7n-e2Fy",
    "outputId": "4f3e9085-3f9a-40e2-bc07-c06ccd2d1cc0"
   },
   "outputs": [
    {
     "name": "stdout",
     "output_type": "stream",
     "text": [
      "Epoch 1/100\n",
      "120/120 [==============================] - 1s 5ms/step - loss: 1.3972 - acc: 0.3417 \n",
      "Epoch 2/100\n",
      "120/120 [==============================] - 0s 250us/step - loss: 1.2313 - acc: 0.3417\n",
      "Epoch 3/100\n",
      "120/120 [==============================] - 0s 267us/step - loss: 1.1193 - acc: 0.3417\n",
      "Epoch 4/100\n",
      "120/120 [==============================] - 0s 269us/step - loss: 1.0066 - acc: 0.4667\n",
      "Epoch 5/100\n",
      "120/120 [==============================] - 0s 269us/step - loss: 0.8899 - acc: 0.6333\n",
      "Epoch 6/100\n",
      "120/120 [==============================] - 0s 250us/step - loss: 0.8212 - acc: 0.8833\n",
      "Epoch 7/100\n",
      "120/120 [==============================] - 0s 235us/step - loss: 0.7753 - acc: 0.8833\n",
      "Epoch 8/100\n",
      "120/120 [==============================] - 0s 263us/step - loss: 0.7307 - acc: 0.9083\n",
      "Epoch 9/100\n",
      "120/120 [==============================] - 0s 227us/step - loss: 0.6869 - acc: 0.9250\n",
      "Epoch 10/100\n",
      "120/120 [==============================] - 0s 247us/step - loss: 0.6487 - acc: 0.9250\n",
      "Epoch 11/100\n",
      "120/120 [==============================] - 0s 239us/step - loss: 0.6100 - acc: 0.9333\n",
      "Epoch 12/100\n",
      "120/120 [==============================] - 0s 248us/step - loss: 0.5765 - acc: 0.9333\n",
      "Epoch 13/100\n",
      "120/120 [==============================] - 0s 232us/step - loss: 0.5456 - acc: 0.9417\n",
      "Epoch 14/100\n",
      "120/120 [==============================] - 0s 245us/step - loss: 0.5199 - acc: 0.9333\n",
      "Epoch 15/100\n",
      "120/120 [==============================] - 0s 267us/step - loss: 0.4935 - acc: 0.9417\n",
      "Epoch 16/100\n",
      "120/120 [==============================] - 0s 260us/step - loss: 0.4725 - acc: 0.9500\n",
      "Epoch 17/100\n",
      "120/120 [==============================] - 0s 271us/step - loss: 0.4533 - acc: 0.9500\n",
      "Epoch 18/100\n",
      "120/120 [==============================] - 0s 326us/step - loss: 0.4389 - acc: 0.9417\n",
      "Epoch 19/100\n",
      "120/120 [==============================] - 0s 280us/step - loss: 0.4187 - acc: 0.9417\n",
      "Epoch 20/100\n",
      "120/120 [==============================] - 0s 245us/step - loss: 0.4035 - acc: 0.9583\n",
      "Epoch 21/100\n",
      "120/120 [==============================] - 0s 236us/step - loss: 0.3899 - acc: 0.9583\n",
      "Epoch 22/100\n",
      "120/120 [==============================] - 0s 268us/step - loss: 0.3771 - acc: 0.9583\n",
      "Epoch 23/100\n",
      "120/120 [==============================] - 0s 308us/step - loss: 0.3661 - acc: 0.9417\n",
      "Epoch 24/100\n",
      "120/120 [==============================] - 0s 282us/step - loss: 0.3531 - acc: 0.9500\n",
      "Epoch 25/100\n",
      "120/120 [==============================] - 0s 250us/step - loss: 0.3432 - acc: 0.9583\n",
      "Epoch 26/100\n",
      "120/120 [==============================] - 0s 244us/step - loss: 0.3325 - acc: 0.9583\n",
      "Epoch 27/100\n",
      "120/120 [==============================] - 0s 260us/step - loss: 0.3253 - acc: 0.9583\n",
      "Epoch 28/100\n",
      "120/120 [==============================] - 0s 247us/step - loss: 0.3146 - acc: 0.9583\n",
      "Epoch 29/100\n",
      "120/120 [==============================] - 0s 265us/step - loss: 0.3085 - acc: 0.9667\n",
      "Epoch 30/100\n",
      "120/120 [==============================] - 0s 246us/step - loss: 0.3012 - acc: 0.9500\n",
      "Epoch 31/100\n",
      "120/120 [==============================] - 0s 295us/step - loss: 0.2941 - acc: 0.9500\n",
      "Epoch 32/100\n",
      "120/120 [==============================] - 0s 309us/step - loss: 0.2856 - acc: 0.9500\n",
      "Epoch 33/100\n",
      "120/120 [==============================] - 0s 247us/step - loss: 0.2782 - acc: 0.9583\n",
      "Epoch 34/100\n",
      "120/120 [==============================] - 0s 283us/step - loss: 0.2729 - acc: 0.9583\n",
      "Epoch 35/100\n",
      "120/120 [==============================] - 0s 252us/step - loss: 0.2656 - acc: 0.9667\n",
      "Epoch 36/100\n",
      "120/120 [==============================] - 0s 247us/step - loss: 0.2615 - acc: 0.9583\n",
      "Epoch 37/100\n",
      "120/120 [==============================] - 0s 262us/step - loss: 0.2558 - acc: 0.9667\n",
      "Epoch 38/100\n",
      "120/120 [==============================] - 0s 251us/step - loss: 0.2496 - acc: 0.9667\n",
      "Epoch 39/100\n",
      "120/120 [==============================] - 0s 237us/step - loss: 0.2448 - acc: 0.9500\n",
      "Epoch 40/100\n",
      "120/120 [==============================] - 0s 312us/step - loss: 0.2396 - acc: 0.9583\n",
      "Epoch 41/100\n",
      "120/120 [==============================] - 0s 258us/step - loss: 0.2365 - acc: 0.9667\n",
      "Epoch 42/100\n",
      "120/120 [==============================] - 0s 278us/step - loss: 0.2316 - acc: 0.9500\n",
      "Epoch 43/100\n",
      "120/120 [==============================] - 0s 238us/step - loss: 0.2271 - acc: 0.9583\n",
      "Epoch 44/100\n",
      "120/120 [==============================] - 0s 302us/step - loss: 0.2236 - acc: 0.9667\n",
      "Epoch 45/100\n",
      "120/120 [==============================] - 0s 284us/step - loss: 0.2203 - acc: 0.9750\n",
      "Epoch 46/100\n",
      "120/120 [==============================] - 0s 242us/step - loss: 0.2204 - acc: 0.9417\n",
      "Epoch 47/100\n",
      "120/120 [==============================] - 0s 296us/step - loss: 0.2145 - acc: 0.9500\n",
      "Epoch 48/100\n",
      "120/120 [==============================] - 0s 259us/step - loss: 0.2099 - acc: 0.9583\n",
      "Epoch 49/100\n",
      "120/120 [==============================] - 0s 313us/step - loss: 0.2055 - acc: 0.9583\n",
      "Epoch 50/100\n",
      "120/120 [==============================] - 0s 256us/step - loss: 0.2023 - acc: 0.9667\n",
      "Epoch 51/100\n",
      "120/120 [==============================] - 0s 236us/step - loss: 0.2013 - acc: 0.9750\n",
      "Epoch 52/100\n",
      "120/120 [==============================] - 0s 247us/step - loss: 0.1969 - acc: 0.9500\n",
      "Epoch 53/100\n",
      "120/120 [==============================] - 0s 331us/step - loss: 0.1929 - acc: 0.9583\n",
      "Epoch 54/100\n",
      "120/120 [==============================] - 0s 229us/step - loss: 0.1950 - acc: 0.9500\n",
      "Epoch 55/100\n",
      "120/120 [==============================] - 0s 238us/step - loss: 0.1899 - acc: 0.9583\n",
      "Epoch 56/100\n",
      "120/120 [==============================] - 0s 290us/step - loss: 0.1863 - acc: 0.9583\n",
      "Epoch 57/100\n",
      "120/120 [==============================] - 0s 268us/step - loss: 0.1841 - acc: 0.9667\n",
      "Epoch 58/100\n",
      "120/120 [==============================] - 0s 314us/step - loss: 0.1822 - acc: 0.9667\n",
      "Epoch 59/100\n",
      "120/120 [==============================] - 0s 254us/step - loss: 0.1798 - acc: 0.9750\n",
      "Epoch 60/100\n",
      "120/120 [==============================] - 0s 252us/step - loss: 0.1779 - acc: 0.9583\n",
      "Epoch 61/100\n",
      "120/120 [==============================] - 0s 266us/step - loss: 0.1757 - acc: 0.9750\n",
      "Epoch 62/100\n",
      "120/120 [==============================] - 0s 282us/step - loss: 0.1728 - acc: 0.9667\n",
      "Epoch 63/100\n",
      "120/120 [==============================] - 0s 265us/step - loss: 0.1695 - acc: 0.9667\n",
      "Epoch 64/100\n",
      "120/120 [==============================] - 0s 263us/step - loss: 0.1675 - acc: 0.9583\n",
      "Epoch 65/100\n",
      "120/120 [==============================] - 0s 300us/step - loss: 0.1667 - acc: 0.9500\n",
      "Epoch 66/100\n",
      "120/120 [==============================] - 0s 265us/step - loss: 0.1645 - acc: 0.9750\n",
      "Epoch 67/100\n",
      "120/120 [==============================] - 0s 315us/step - loss: 0.1626 - acc: 0.9667\n",
      "Epoch 68/100\n",
      "120/120 [==============================] - 0s 241us/step - loss: 0.1631 - acc: 0.9583\n",
      "Epoch 69/100\n",
      "120/120 [==============================] - 0s 262us/step - loss: 0.1609 - acc: 0.9583\n",
      "Epoch 70/100\n",
      "120/120 [==============================] - 0s 366us/step - loss: 0.1587 - acc: 0.9583\n",
      "Epoch 71/100\n",
      "120/120 [==============================] - 0s 238us/step - loss: 0.1574 - acc: 0.9667\n",
      "Epoch 72/100\n",
      "120/120 [==============================] - 0s 248us/step - loss: 0.1534 - acc: 0.9583\n",
      "Epoch 73/100\n",
      "120/120 [==============================] - 0s 242us/step - loss: 0.1545 - acc: 0.9750\n",
      "Epoch 74/100\n",
      "120/120 [==============================] - 0s 307us/step - loss: 0.1512 - acc: 0.9500\n",
      "Epoch 75/100\n",
      "120/120 [==============================] - 0s 242us/step - loss: 0.1497 - acc: 0.9500\n",
      "Epoch 76/100\n",
      "120/120 [==============================] - 0s 291us/step - loss: 0.1487 - acc: 0.9667\n",
      "Epoch 77/100\n",
      "120/120 [==============================] - 0s 317us/step - loss: 0.1526 - acc: 0.9667\n",
      "Epoch 78/100\n",
      "120/120 [==============================] - 0s 248us/step - loss: 0.1466 - acc: 0.9583\n",
      "Epoch 79/100\n",
      "120/120 [==============================] - 0s 288us/step - loss: 0.1443 - acc: 0.9833\n",
      "Epoch 80/100\n",
      "120/120 [==============================] - 0s 277us/step - loss: 0.1432 - acc: 0.9583\n",
      "Epoch 81/100\n",
      "120/120 [==============================] - 0s 257us/step - loss: 0.1430 - acc: 0.9667\n",
      "Epoch 82/100\n",
      "120/120 [==============================] - 0s 248us/step - loss: 0.1427 - acc: 0.9583\n",
      "Epoch 83/100\n",
      "120/120 [==============================] - 0s 238us/step - loss: 0.1413 - acc: 0.9500\n",
      "Epoch 84/100\n",
      "120/120 [==============================] - 0s 341us/step - loss: 0.1405 - acc: 0.9583\n",
      "Epoch 85/100\n",
      "120/120 [==============================] - 0s 277us/step - loss: 0.1390 - acc: 0.9667\n",
      "Epoch 86/100\n",
      "120/120 [==============================] - 0s 305us/step - loss: 0.1367 - acc: 0.9667\n",
      "Epoch 87/100\n",
      "120/120 [==============================] - 0s 232us/step - loss: 0.1369 - acc: 0.9583\n",
      "Epoch 88/100\n",
      "120/120 [==============================] - 0s 269us/step - loss: 0.1353 - acc: 0.9667\n",
      "Epoch 89/100\n",
      "120/120 [==============================] - 0s 314us/step - loss: 0.1336 - acc: 0.9583\n",
      "Epoch 90/100\n",
      "120/120 [==============================] - 0s 251us/step - loss: 0.1329 - acc: 0.9583\n",
      "Epoch 91/100\n",
      "120/120 [==============================] - 0s 252us/step - loss: 0.1311 - acc: 0.9750\n",
      "Epoch 92/100\n",
      "120/120 [==============================] - 0s 298us/step - loss: 0.1304 - acc: 0.9750\n",
      "Epoch 93/100\n",
      "120/120 [==============================] - 0s 340us/step - loss: 0.1292 - acc: 0.9667\n",
      "Epoch 94/100\n",
      "120/120 [==============================] - 0s 359us/step - loss: 0.1306 - acc: 0.9583\n",
      "Epoch 95/100\n",
      "120/120 [==============================] - 0s 295us/step - loss: 0.1294 - acc: 0.9583\n",
      "Epoch 96/100\n",
      "120/120 [==============================] - 0s 265us/step - loss: 0.1275 - acc: 0.9667\n",
      "Epoch 97/100\n",
      "120/120 [==============================] - 0s 234us/step - loss: 0.1268 - acc: 0.9667\n",
      "Epoch 98/100\n",
      "120/120 [==============================] - 0s 311us/step - loss: 0.1246 - acc: 0.9667\n",
      "Epoch 99/100\n",
      "120/120 [==============================] - 0s 236us/step - loss: 0.1272 - acc: 0.9583\n",
      "Epoch 100/100\n",
      "120/120 [==============================] - 0s 236us/step - loss: 0.1225 - acc: 0.9667\n"
     ]
    },
    {
     "data": {
      "text/plain": [
       "<keras.callbacks.History at 0x7fbce804eb00>"
      ]
     },
     "execution_count": 23,
     "metadata": {
      "tags": []
     },
     "output_type": "execute_result"
    }
   ],
   "source": [
    "#fit the model not taking into accountthe kfold or estimator\n",
    "\n",
    "model.fit(X,dummy_y,batch_size=5,epochs=100,verbose=1)"
   ]
  },
  {
   "cell_type": "code",
   "execution_count": 0,
   "metadata": {
    "colab": {},
    "colab_type": "code",
    "id": "SYQe3mepuy_5"
   },
   "outputs": [],
   "source": [
    "#load test data\n",
    "dataframeTest = pandas.read_csv('iris_test.csv')\n",
    "datasetTest = dataframeTest.values\n",
    "\n",
    "Xtest = datasetTest[:,0:4].astype(float)"
   ]
  },
  {
   "cell_type": "code",
   "execution_count": 0,
   "metadata": {
    "colab": {},
    "colab_type": "code",
    "id": "rX6Uxd5CwqNo"
   },
   "outputs": [],
   "source": [
    "# test the model by predicting data\n",
    "#Ytest holds only encoded data, so will need Ypred as array to hold decoded data\n",
    "Ytest = model.predict(Xtest).round(0)\n",
    "Ypred = []"
   ]
  },
  {
   "cell_type": "code",
   "execution_count": 0,
   "metadata": {
    "colab": {},
    "colab_type": "code",
    "id": "CLr643uAzn63"
   },
   "outputs": [],
   "source": [
    "#decode data from Ytest and save in Ypred\n",
    "for i in range(len(Ytest)):\n",
    "  if Ytest[i,0] == 1:\n",
    "    Ypred.append('Iris-setosa')\n",
    "  elif Ytest[i,1] == 1:\n",
    "    Ypred.append('Iris-versicolor')\n",
    "  else:\n",
    "    Ypred.append('Iris-virginica')"
   ]
  },
  {
   "cell_type": "code",
   "execution_count": 0,
   "metadata": {
    "colab": {},
    "colab_type": "code",
    "id": "OSTzZYwzBdXi"
   },
   "outputs": [],
   "source": [
    "#YPred is an array without attributes, need to create a dataframe to save it\n",
    "Ystg = pandas.DataFrame(Ypred)\n",
    "Ystg.to_csv('Task4.csv', index=False, sep=',', header=None)"
   ]
  }
 ],
 "metadata": {
  "accelerator": "TPU",
  "colab": {
   "collapsed_sections": [],
   "name": "classification.ipynb",
   "provenance": []
  },
  "kernelspec": {
   "display_name": "Python 3",
   "language": "python",
   "name": "python3"
  },
  "language_info": {
   "codemirror_mode": {
    "name": "ipython",
    "version": 3
   },
   "file_extension": ".py",
   "mimetype": "text/x-python",
   "name": "python",
   "nbconvert_exporter": "python",
   "pygments_lexer": "ipython3",
   "version": "3.7.6"
  }
 },
 "nbformat": 4,
 "nbformat_minor": 1
}
