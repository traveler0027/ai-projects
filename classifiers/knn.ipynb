{
 "cells": [
  {
   "cell_type": "markdown",
   "metadata": {},
   "source": [
    "<h2 style=\"text-align:center;\"> K Nearest Neighbors</h2>\n",
    "<p> Given the data plot shown below, how should the new data point (green) be classified?</p>\n",
    "<p> To solve this we can calcualte the distance to all other data points and determine the 'k' Nearest Neighbors. By setting 'k' to an odd number, (where k is the number of neighbors) we can avoid ties.</p>\n",
    "<img src=\"../images/knn1.jpg\"/>\n",
    "<p>The distance needs to be straight path distance, aka Eucledean distance.</p>\n",
    "<p>given by:</p>\n",
    "<img src=\"../images/knn2.png\">\n",
    "<p>More generally, the distance between two points (p and q) can be written as:</p>\n",
    "\n",
    "\\begin{align}\n",
    "d(p, q) = \\sqrt{\\sum{(p_{i}- q_{i})^2}}\n",
    "\\end{align}"
   ]
  },
  {
   "cell_type": "markdown",
   "metadata": {},
   "source": [
    "<h2 style=\"text-align:center;\">Code the algorithm</h2>"
   ]
  },
  {
   "cell_type": "code",
   "execution_count": 10,
   "metadata": {},
   "outputs": [],
   "source": [
    "import numpy as np\n",
    "from collections import Counter\n",
    "\n",
    "def euclidean_distance(x1,x2):\n",
    "    #from the formula above\n",
    "    return np.sqrt(np.sum(x1-x2)**2)\n",
    "\n",
    "class KNN:\n",
    "    def __init__(self,k=3 ):\n",
    "        #set default k value to 3\n",
    "        #k is number of neighbor to consider\n",
    "        \n",
    "        #store k value\n",
    "        self.k = k\n",
    "        \n",
    "    def fit(self,X,y):\n",
    "        #X is training sample\n",
    "        #y is training lable\n",
    "        \n",
    "        #store training samples and labels\n",
    "        self.X_train = X\n",
    "        self.y_train = y\n",
    "        \n",
    "    def predict(self,X):\n",
    "        #X is new samples to be predicted\n",
    "        \n",
    "        #create list of predicted labels\n",
    "        predicted_labels = [self._predict(x) for x in X]\n",
    "        \n",
    "        return np.array(predicted_labels)\n",
    "    \n",
    "    def _predict(self,x):\n",
    "        #helper method will get one x sample\n",
    "        \n",
    "        #use list comprehention to create list of distances from point x to all points in training \n",
    "        distances = [euclidean_distance(x,x_train) for x_train in self.X_train]\n",
    "        \n",
    "        #get k nearest samples and labels\n",
    "        #create array of sorted distances\n",
    "        k_indices = np.argsort(distances)[:self.k] #only return 0:k\n",
    "        \n",
    "        #create list of closest data points' labels\n",
    "        k_nearest_labels = [self.y_train[i] for i in k_indices]\n",
    "        \n",
    "        #majority vote for most common classification label\n",
    "        most_common_labels = Counter(k_nearest_labels).most_common(1)\n",
    "        return most_common_labels[0][0]"
   ]
  },
  {
   "cell_type": "markdown",
   "metadata": {},
   "source": [
    "<h3>See it in action </h3>"
   ]
  },
  {
   "cell_type": "code",
   "execution_count": 11,
   "metadata": {},
   "outputs": [
    {
     "name": "stdout",
     "output_type": "stream",
     "text": [
      "0.9333333333333333\n"
     ]
    }
   ],
   "source": [
    "#import data to test the algorithm\n",
    "from sklearn import datasets\n",
    "from sklearn.model_selection import train_test_split\n",
    "import matplotlib.pyplot as plt\n",
    "from matplotlib.colors import ListedColormap\n",
    "\n",
    "cmap = ListedColormap(['#FF0000','#00FF00','#0000FF'])\n",
    "iris = datasets.load_iris()\n",
    "X,y = iris.data,iris.target\n",
    "\n",
    "#split the dataset into a 80/20 split\n",
    "X_train, X_test, y_train,y_test = train_test_split(X,y,test_size=0.2,random_state=1234)\n",
    "\n",
    "#plt.figure()\n",
    "#plt.scatter(X[:,2],X[:,3],c=y,cmap=cmap, edgecolor='k',s=20)\n",
    "#plt.show()\n",
    "\n",
    "clf = KNN(k=3)\n",
    "clf.fit(X_train,y_train)\n",
    "predictions=clf.predict(X_test)\n",
    "\n",
    "accuracy = np.sum(predictions == y_test)/len(y_test)\n",
    "print(accuracy)\n"
   ]
  }
 ],
 "metadata": {
  "kernelspec": {
   "display_name": "Python 3",
   "language": "python",
   "name": "python3"
  },
  "language_info": {
   "codemirror_mode": {
    "name": "ipython",
    "version": 3
   },
   "file_extension": ".py",
   "mimetype": "text/x-python",
   "name": "python",
   "nbconvert_exporter": "python",
   "pygments_lexer": "ipython3",
   "version": "3.7.9"
  }
 },
 "nbformat": 4,
 "nbformat_minor": 4
}
